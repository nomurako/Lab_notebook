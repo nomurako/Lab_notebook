{
 "cells": [
  {
   "cell_type": "markdown",
   "id": "0ecd22db",
   "metadata": {},
   "source": [
    "# Lab 1: Getting Started with Python in Google Colab\n",
    "\n",
    "Welcome to the first lab of **Agricultural Information Engineering**.\n",
    "\n",
    "In this session, we will:\n",
    "- Learn how to run Python code in Google Colab\n",
    "- Understand basic Python syntax\n",
    "- Work with variables, data types, and basic operations\n",
    "- Explore lists, loops, and dictionaries\n",
    "\n",
    "Let's get started!"
   ]
  },
  {
   "cell_type": "markdown",
   "id": "2e537c43",
   "metadata": {},
   "source": [
    "## Using Cells in Google Colab\n",
    "Colab notebooks are made of **cells**:\n",
    "- **Code cells** (with a gray background): where you write and run Python code.\n",
    "- **Markdown cells** (with a white background): where you write explanations using formatted text (like this one!).\n",
    "\n",
    "You can run a cell by clicking on it and pressing `Shift + Enter`."
   ]
  },
  {
   "cell_type": "markdown",
   "id": "ab2c0895",
   "metadata": {},
   "source": [
    "## What is Google Colab?\n",
    "Google Colab is a free, cloud-based Python environment that allows you to write and execute Python code using just your web browser.\n",
    "\n",
    "You can:\n",
    "- Write and run code in cells\n",
    "- Add text using Markdown\n",
    "- Visualize data\n",
    "- Share notebooks with others (like Google Docs)\n",
    "\n",
    "This makes it a powerful tool for learning and applying programming to agriculture and environmental data analysis."
   ]
  },
  {
   "cell_type": "markdown",
   "id": "efcbb9dd",
   "metadata": {},
   "source": [
    "## 1. Print Statements\n",
    "Use `print()` to display messages or variable values."
   ]
  },
  {
   "cell_type": "markdown",
   "id": "1c8bb482",
   "metadata": {},
   "source": [
    "## Why Python for Agriculture?\n",
    "Python is a beginner-friendly, high-level programming language.\n",
    "\n",
    "In agriculture, Python is useful for:\n",
    "- Reading and analyzing climate or crop data\n",
    "- Automating tasks (e.g., calculating daily light integral)\n",
    "- Visualizing environmental trends\n",
    "- Running models and simulations\n",
    "\n",
    "In this course, we’ll use Python to work with real-world greenhouse and environmental datasets."
   ]
  },
  {
   "cell_type": "code",
   "execution_count": null,
   "id": "5dbb936b",
   "metadata": {},
   "outputs": [],
   "source": [
    "# Display a simple message\n",
    "print('Hello, Agricultural Information Engineering!')"
   ]
  },
  {
   "cell_type": "markdown",
   "id": "918d46e1",
   "metadata": {},
   "source": [
    "## 2. Variables and Arithmetic Operations\n",
    "Variables store data. You can perform arithmetic operations using them."
   ]
  },
  {
   "cell_type": "markdown",
   "id": "3a8f4903",
   "metadata": {},
   "source": [
    "### ✍️ Try it Yourself:\n",
    "Change the temperature and humidity values, then re-run the code to see how VPD changes."
   ]
  },
  {
   "cell_type": "markdown",
   "id": "4300b832",
   "metadata": {},
   "source": [
    "### What is VPD?\n",
    "**Vapor Pressure Deficit (VPD)** is an important environmental variable in greenhouse management.\n",
    "\n",
    "- It represents the difference between the amount of moisture in the air and how much moisture the air can hold when it's saturated.\n",
    "- A higher VPD means the air is drier, encouraging more transpiration from plants.\n",
    "- A lower VPD means the air is more humid, and transpiration slows down.\n",
    "\n",
    "In this simplified formula:\n",
    "```python\n",
    "vpd = (1 - humidity / 100) * 3.2\n",
    "```\n",
    "- `humidity / 100` converts percent to a decimal.\n",
    "- `3.2` is a placeholder for saturation vapor pressure at a certain temperature (approx. 25°C).\n",
    "- The result is a rough estimate in kilopascals (kPa)."
   ]
  },
  {
   "cell_type": "code",
   "execution_count": null,
   "id": "0676a400",
   "metadata": {},
   "outputs": [],
   "source": [
    "# Define environmental variables\n",
    "temperature = 25  # degrees Celsius\n",
    "humidity = 60     # percent\n",
    "\n",
    "# Calculate a simple Vapor Pressure Deficit (VPD) estimate\n",
    "vpd = (1 - humidity / 100) * 3.2\n",
    "print('Estimated VPD:', vpd, 'kPa')"
   ]
  },
  {
   "cell_type": "markdown",
   "id": "1336f0cc",
   "metadata": {},
   "source": [
    "## 3. Lists and Loops\n",
    "Lists store multiple values. Loops help you go through each item."
   ]
  },
  {
   "cell_type": "markdown",
   "id": "89136a06",
   "metadata": {},
   "source": [
    "### ✍️ Try it Yourself:\n",
    "Modify the list to include 3 more hourly temperatures. What happens to the loop?"
   ]
  },
  {
   "cell_type": "code",
   "execution_count": null,
   "id": "f6b7c3cc",
   "metadata": {},
   "outputs": [],
   "source": [
    "# A list of hourly temperatures\n",
    "temperatures = [22, 23, 25, 27, 28, 26, 24]\n",
    "\n",
    "# Print each temperature using a for loop\n",
    "for t in temperatures:\n",
    "    print('Temperature:', t, '°C')"
   ]
  },
  {
   "cell_type": "markdown",
   "id": "5614bbf9",
   "metadata": {},
   "source": [
    "## 4. Dictionaries\n",
    "Dictionaries store key-value pairs, useful for structured data."
   ]
  },
  {
   "cell_type": "markdown",
   "id": "5a2fec15",
   "metadata": {},
   "source": [
    "### ✍️ Try it Yourself:\n",
    "Add a new key to the dictionary (e.g., `'light': 300`) and print it."
   ]
  },
  {
   "cell_type": "code",
   "execution_count": null,
   "id": "5d41998b",
   "metadata": {},
   "outputs": [],
   "source": [
    "# Dictionary for environmental readings\n",
    "env_data = {\n",
    "    'temperature': 25,\n",
    "    'humidity': 60,\n",
    "    'CO2': 450\n",
    "}\n",
    "\n",
    "# Access and print values\n",
    "for key, value in env_data.items():\n",
    "    print(key + ':', value)"
   ]
  },
  {
   "cell_type": "markdown",
   "id": "1181b22e",
   "metadata": {},
   "source": [
    "### Understanding Keys and Values\n",
    "A **dictionary** in Python consists of:\n",
    "- **Keys**: like labels (e.g., `'temperature'`)\n",
    "- **Values**: actual data associated with those labels (e.g., `25`)\n",
    "\n",
    "You can access a value by referring to its key using square brackets:\n",
    "```python\n",
    "print(env_data['temperature'])  # This will print 25\n",
    "```"
   ]
  },
  {
   "cell_type": "code",
   "execution_count": null,
   "id": "514573ac",
   "metadata": {},
   "outputs": [],
   "source": [
    "# Accessing values using keys\n",
    "print('Temperature:', env_data['temperature'])\n",
    "print('Humidity:', env_data['humidity'])\n",
    "print('CO2 level:', env_data['CO2'])"
   ]
  },
  {
   "cell_type": "markdown",
   "id": "6aba67a1",
   "metadata": {},
   "source": [
    "### ✍️ Try it Yourself:\n",
    "- Add a new key-value pair to the dictionary, like `'light': 300`\n",
    "- Access and print the new value using its key.\n",
    "- What happens if you try to access a key that doesn't exist?"
   ]
  },
  {
   "cell_type": "markdown",
   "id": "f8912747",
   "metadata": {},
   "source": [
    "## 5. Summary\n",
    "In this lab, you learned:\n",
    "- How to use `print()` to display output\n",
    "- How to define and use variables\n",
    "- How to use lists and iterate over them\n",
    "- How to use dictionaries for structured data\n",
    "\n",
    "Next week, we'll introduce control flow and functions!"
   ]
  }
 ],
 "metadata": {},
 "nbformat": 4,
 "nbformat_minor": 5
}
