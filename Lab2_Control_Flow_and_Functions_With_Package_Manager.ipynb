{
 "cells": [
  {
   "cell_type": "markdown",
   "id": "faaa92a5",
   "metadata": {},
   "source": [
    "# Lab 2: Python Control Flow and Functions\n",
    "\n",
    "In this lab, you will learn how to:\n",
    "- Use `if` statements to make decisions\n",
    "- Write and call functions\n",
    "- Use Python modules and install packages"
   ]
  },
  {
   "cell_type": "markdown",
   "id": "a951aa8f",
   "metadata": {},
   "source": [
    "## 1. Using `if` Statements\n",
    "### Understanding `if` Statements\n",
    "\n",
    "An `if` statement lets your program make decisions based on conditions. It checks if a condition is true, and if so, runs a block of code.\n",
    "> **Syntax:**  \n",
    "> ```python\n",
    "> if condition:\n",
    ">     # code to run if condition is true\n",
    "> else:\n",
    ">     # code to run if condition is false\n",
    "> ```\n",
    "- The `if` block runs only if the condition is true.\n",
    "- The `else` block runs if the condition is false."
   ]
  },
  {
   "cell_type": "code",
   "execution_count": null,
   "id": "cf15a065",
   "metadata": {},
   "outputs": [],
   "source": [
    "temperature = 30\n",
    "if temperature > 28:\n",
    "    print('Warning: High temperature!')\n",
    "else:\n",
    "    print('Temperature is in a safe range.')"
   ]
  },
  {
   "cell_type": "markdown",
   "id": "d93570b0",
   "metadata": {},
   "source": [
    "### ✍️ Try it Yourself:\n",
    "Change the temperature value and see the message change."
   ]
  },
  {
   "cell_type": "code",
   "execution_count": null,
   "id": "450a1842",
   "metadata": {},
   "outputs": [],
   "source": [
    "temperature = 15\n",
    "if temperature > 28:\n",
    "    print('High temperature!')\n",
    "elif temperature < 18:\n",
    "    print('Low temperature!')\n",
    "else:\n",
    "    print('Optimal temperature.')"
   ]
  },
  {
   "cell_type": "markdown",
   "id": "c2b67420",
   "metadata": {},
   "source": [
    "## 2. Writing Functions\n",
    "### Understanding Functions in Python\n",
    "\n",
    "A **function** is a reusable block of code that performs a specific task. Functions help organize code, reduce repetition, and make programs easier to read and maintain.\n",
    "\n",
    "**Defining a Function:**\n",
    "Use the `def` keyword, followed by the function name and parentheses containing any parameters.\n",
    "\n",
    "Example:\n"
   ]
  },
  {
   "cell_type": "code",
   "execution_count": null,
   "id": "387ba1dd",
   "metadata": {},
   "outputs": [],
   "source": [
    "def calculate_vpd(humidity, saturation_vapor_pressure=3.2):\n",
    "    return (1 - humidity / 100) * saturation_vapor_pressure\n",
    "\n",
    "print(calculate_vpd(65))"
   ]
  },
  {
   "cell_type": "markdown",
   "id": "b7026475",
   "metadata": {},
   "source": [
    "This code defines a function called `calculate_vpd` that calculates the Vapor Pressure Deficit (VPD), which is important in plant and environmental science.\n",
    "\n",
    "- `def calculate_vpd(humidity, saturation_vapor_pressure=3.2):`  \n",
    "    This line defines a function with two parameters:  \n",
    "    - `humidity`: The relative humidity (in percent, e.g., 65 for 65%).  \n",
    "    - `saturation_vapor_pressure`: The maximum vapor pressure at a given temperature (default value is 3.2).\n",
    "\n",
    "- `return (1 - humidity / 100) * saturation_vapor_pressure`  \n",
    "    This line calculates VPD using the formula:  \n",
    "    - First, `humidity / 100` converts the percentage to a fraction (e.g., 65% becomes 0.65).\n",
    "    - `1 - humidity / 100` gives the fraction of unsaturated air.\n",
    "    - Multiplying by `saturation_vapor_pressure` gives the VPD.\n",
    "\n",
    "- `print(calculate_vpd(65))`  \n",
    "    This calls the function with `humidity=65` and uses the default `saturation_vapor_pressure=3.2`.  \n",
    "    It prints the result of the calculation.\n",
    "\n",
    "**Summary:**  \n",
    "The code calculates and prints the vapor pressure deficit for 65% humidity, using a default saturation vapor pressure of 3.2."
   ]
  },
  {
   "cell_type": "markdown",
   "id": "890f0012",
   "metadata": {},
   "source": [
    "### What Are Function Arguments?\n",
    "Arguments pass information into a function. You call a function by its name and provide arguments in parentheses."
   ]
  },
  {
   "cell_type": "code",
   "execution_count": null,
   "id": "7044b0a6",
   "metadata": {},
   "outputs": [],
   "source": [
    "def greet(name):\n",
    "    print('Hello,', name)\n",
    "\n",
    "greet('Tuan')"
   ]
  },
  {
   "cell_type": "code",
   "execution_count": null,
   "id": "3c58b79f",
   "metadata": {},
   "outputs": [],
   "source": [
    "def print_weather(temp, humidity):\n",
    "    print('Temperature:', temp)\n",
    "    print('Humidity:', humidity)\n",
    "\n",
    "print_weather(26, 70)"
   ]
  },
  {
   "cell_type": "markdown",
   "id": "90561705",
   "metadata": {},
   "source": [
    "## ✍️ Exercise: Combine `if` and `def`\n",
    "Define `check_environment(temp, humidity)` to print:\n",
    "- High temp warning if temp > 30\n",
    "- Low humidity warning if humidity < 40\n",
    "- Otherwise normal\n"
   ]
  },
  {
   "cell_type": "code",
   "execution_count": null,
   "id": "34a443c7",
   "metadata": {},
   "outputs": [],
   "source": [
    "def check_environment(temp, humidity):\n",
    "    if temp > 30:\n",
    "        print('High temperature warning!')\n",
    "    elif humidity < 40:\n",
    "        print('Low humidity warning!')\n",
    "    else:\n",
    "        print('Environment is within normal range.')\n",
    "\n",
    "check_environment(32, 45)\n",
    "check_environment(25, 35)\n",
    "check_environment(26, 55)"
   ]
  },
  {
   "cell_type": "markdown",
   "id": "d34d4e7c",
   "metadata": {},
   "source": [
    "## 3. Importing Python Modules"
   ]
  },
  {
   "cell_type": "code",
   "execution_count": null,
   "id": "ab74ce23",
   "metadata": {},
   "outputs": [],
   "source": [
    "import math\n",
    "temperature_k = 25 + 273.15\n",
    "energy = 1.38e-23 * temperature_k\n",
    "print('Thermal energy:', energy)"
   ]
  },
  {
   "cell_type": "markdown",
   "id": "c83fe222",
   "metadata": {},
   "source": [
    "### How to Install a Module\n",
    "Use `!pip install` to install packages in Colab:\n",
    "```python\n",
    "!pip install pandas\n",
    "```"
   ]
  },
  {
   "cell_type": "markdown",
   "id": "2d3628ab",
   "metadata": {},
   "source": [
    "### What is a Package Manager?\n",
    "`pip` is a package manager that helps you install and manage Python libraries from PyPI.\n",
    "Examples:\n",
    "```python\n",
    "!pip install pandas\n",
    "!pip install --upgrade pandas\n",
    "!pip uninstall pandas\n",
    "```"
   ]
  },
  {
   "cell_type": "markdown",
   "id": "a3e9a47d",
   "metadata": {},
   "source": [
    "## Summary\n",
    "You practiced control flow, functions, modules, and installing packages."
   ]
  }
 ],
 "metadata": {
  "language_info": {
   "name": "python"
  }
 },
 "nbformat": 4,
 "nbformat_minor": 5
}
