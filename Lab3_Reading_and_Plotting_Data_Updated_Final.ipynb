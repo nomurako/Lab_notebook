{
  "cells": [
    {
      "cell_type": "markdown",
      "id": "9a2b1464",
      "metadata": {
        "id": "9a2b1464"
      },
      "source": [
        "# Lab 3: Reading and Plotting Data with pandas and matplotlib\n",
        "\n",
        "In this lab, you will learn how to:\n",
        "- Load CSV data using `pandas`\n",
        "- Inspect and summarize datasets\n",
        "- Plot simple graphs using `matplotlib`\n",
        "\n",
        "These tools are essential for analyzing agricultural data such as temperature, humidity, and CO₂ levels from sensors."
      ]
    },
    {
      "cell_type": "markdown",
      "id": "a1a150aa",
      "metadata": {
        "id": "a1a150aa"
      },
      "source": [
        "## What is pandas?\n",
        "**pandas** is a Python library used for working with tabular data (like spreadsheets or CSV files).\n",
        "\n",
        "With pandas, you can:\n",
        "- Load and save data\n",
        "- Explore and clean datasets\n",
        "- Analyze and filter rows and columns\n",
        "- Perform group operations and aggregations"
      ]
    },
    {
      "cell_type": "markdown",
      "id": "3a54ee7f",
      "metadata": {
        "id": "3a54ee7f"
      },
      "source": [
        "## What is matplotlib?\n",
        "**matplotlib** is a Python library for creating static, animated, and interactive visualizations.\n",
        "\n",
        "It works well with pandas and is widely used in science and engineering to visualize trends, comparisons, and patterns."
      ]
    },
    {
      "cell_type": "code",
      "source": [],
      "metadata": {
        "id": "UAJoJlALSP57"
      },
      "id": "UAJoJlALSP57",
      "execution_count": null,
      "outputs": []
    },
    {
      "cell_type": "markdown",
      "metadata": {
        "id": "553e5a6c"
      },
      "source": [
        "## 1. Loading Data with pandas"
      ],
      "id": "553e5a6c"
    },
    {
      "cell_type": "code",
      "execution_count": null,
      "metadata": {
        "colab": {
          "base_uri": "https://localhost:8080/"
        },
        "id": "3b49344b",
        "outputId": "766b7606-78bb-45a1-d94a-f954067c4cdf"
      },
      "outputs": [
        {
          "output_type": "stream",
          "name": "stdout",
          "text": [
            "Requirement already satisfied: pandas in /usr/local/lib/python3.11/dist-packages (2.2.2)\n",
            "Requirement already satisfied: numpy>=1.23.2 in /usr/local/lib/python3.11/dist-packages (from pandas) (2.0.2)\n",
            "Requirement already satisfied: python-dateutil>=2.8.2 in /usr/local/lib/python3.11/dist-packages (from pandas) (2.9.0.post0)\n",
            "Requirement already satisfied: pytz>=2020.1 in /usr/local/lib/python3.11/dist-packages (from pandas) (2025.2)\n",
            "Requirement already satisfied: tzdata>=2022.7 in /usr/local/lib/python3.11/dist-packages (from pandas) (2025.2)\n",
            "Requirement already satisfied: six>=1.5 in /usr/local/lib/python3.11/dist-packages (from python-dateutil>=2.8.2->pandas) (1.17.0)\n"
          ]
        }
      ],
      "source": [
        "# Run this cell if pandas is not already installed\n",
        "!pip install pandas"
      ],
      "id": "3b49344b"
    },
    {
      "cell_type": "markdown",
      "id": "c0a8af39",
      "metadata": {
        "id": "c0a8af39"
      },
      "source": [
        "## Reading CSV Files from Local Drive or Google Drive\n",
        "In Google Colab, you can read CSV files from your local machine or Google Drive.\n",
        "\n",
        "### Option 1: Upload from Your Local Computer"
      ]
    },
    {
      "cell_type": "markdown",
      "id": "b8999072",
      "metadata": {
        "id": "b8999072"
      },
      "source": [
        "First, download an excel file to your local machine (e.g., your laptop).  \n",
        "https://github.com/nomurako/Lab_notebook/blob/master/example_strawberry_photosynthesis.xlsx  \n",
        "\n",
        "The file name \"example_strawberry_photosynthesis.xlsx\" should be maintained (don't rename it)."
      ]
    },
    {
      "cell_type": "code",
      "execution_count": 9,
      "id": "7636cf16",
      "metadata": {
        "colab": {
          "base_uri": "https://localhost:8080/",
          "height": 400
        },
        "id": "7636cf16",
        "outputId": "ad45f06d-2e01-4beb-db59-7671d8ca1401"
      },
      "outputs": [
        {
          "output_type": "display_data",
          "data": {
            "text/plain": [
              "<IPython.core.display.HTML object>"
            ],
            "text/html": [
              "\n",
              "     <input type=\"file\" id=\"files-77da8aff-df0f-4950-a48a-ca2f07baae97\" name=\"files[]\" multiple disabled\n",
              "        style=\"border:none\" />\n",
              "     <output id=\"result-77da8aff-df0f-4950-a48a-ca2f07baae97\">\n",
              "      Upload widget is only available when the cell has been executed in the\n",
              "      current browser session. Please rerun this cell to enable.\n",
              "      </output>\n",
              "      <script>// Copyright 2017 Google LLC\n",
              "//\n",
              "// Licensed under the Apache License, Version 2.0 (the \"License\");\n",
              "// you may not use this file except in compliance with the License.\n",
              "// You may obtain a copy of the License at\n",
              "//\n",
              "//      http://www.apache.org/licenses/LICENSE-2.0\n",
              "//\n",
              "// Unless required by applicable law or agreed to in writing, software\n",
              "// distributed under the License is distributed on an \"AS IS\" BASIS,\n",
              "// WITHOUT WARRANTIES OR CONDITIONS OF ANY KIND, either express or implied.\n",
              "// See the License for the specific language governing permissions and\n",
              "// limitations under the License.\n",
              "\n",
              "/**\n",
              " * @fileoverview Helpers for google.colab Python module.\n",
              " */\n",
              "(function(scope) {\n",
              "function span(text, styleAttributes = {}) {\n",
              "  const element = document.createElement('span');\n",
              "  element.textContent = text;\n",
              "  for (const key of Object.keys(styleAttributes)) {\n",
              "    element.style[key] = styleAttributes[key];\n",
              "  }\n",
              "  return element;\n",
              "}\n",
              "\n",
              "// Max number of bytes which will be uploaded at a time.\n",
              "const MAX_PAYLOAD_SIZE = 100 * 1024;\n",
              "\n",
              "function _uploadFiles(inputId, outputId) {\n",
              "  const steps = uploadFilesStep(inputId, outputId);\n",
              "  const outputElement = document.getElementById(outputId);\n",
              "  // Cache steps on the outputElement to make it available for the next call\n",
              "  // to uploadFilesContinue from Python.\n",
              "  outputElement.steps = steps;\n",
              "\n",
              "  return _uploadFilesContinue(outputId);\n",
              "}\n",
              "\n",
              "// This is roughly an async generator (not supported in the browser yet),\n",
              "// where there are multiple asynchronous steps and the Python side is going\n",
              "// to poll for completion of each step.\n",
              "// This uses a Promise to block the python side on completion of each step,\n",
              "// then passes the result of the previous step as the input to the next step.\n",
              "function _uploadFilesContinue(outputId) {\n",
              "  const outputElement = document.getElementById(outputId);\n",
              "  const steps = outputElement.steps;\n",
              "\n",
              "  const next = steps.next(outputElement.lastPromiseValue);\n",
              "  return Promise.resolve(next.value.promise).then((value) => {\n",
              "    // Cache the last promise value to make it available to the next\n",
              "    // step of the generator.\n",
              "    outputElement.lastPromiseValue = value;\n",
              "    return next.value.response;\n",
              "  });\n",
              "}\n",
              "\n",
              "/**\n",
              " * Generator function which is called between each async step of the upload\n",
              " * process.\n",
              " * @param {string} inputId Element ID of the input file picker element.\n",
              " * @param {string} outputId Element ID of the output display.\n",
              " * @return {!Iterable<!Object>} Iterable of next steps.\n",
              " */\n",
              "function* uploadFilesStep(inputId, outputId) {\n",
              "  const inputElement = document.getElementById(inputId);\n",
              "  inputElement.disabled = false;\n",
              "\n",
              "  const outputElement = document.getElementById(outputId);\n",
              "  outputElement.innerHTML = '';\n",
              "\n",
              "  const pickedPromise = new Promise((resolve) => {\n",
              "    inputElement.addEventListener('change', (e) => {\n",
              "      resolve(e.target.files);\n",
              "    });\n",
              "  });\n",
              "\n",
              "  const cancel = document.createElement('button');\n",
              "  inputElement.parentElement.appendChild(cancel);\n",
              "  cancel.textContent = 'Cancel upload';\n",
              "  const cancelPromise = new Promise((resolve) => {\n",
              "    cancel.onclick = () => {\n",
              "      resolve(null);\n",
              "    };\n",
              "  });\n",
              "\n",
              "  // Wait for the user to pick the files.\n",
              "  const files = yield {\n",
              "    promise: Promise.race([pickedPromise, cancelPromise]),\n",
              "    response: {\n",
              "      action: 'starting',\n",
              "    }\n",
              "  };\n",
              "\n",
              "  cancel.remove();\n",
              "\n",
              "  // Disable the input element since further picks are not allowed.\n",
              "  inputElement.disabled = true;\n",
              "\n",
              "  if (!files) {\n",
              "    return {\n",
              "      response: {\n",
              "        action: 'complete',\n",
              "      }\n",
              "    };\n",
              "  }\n",
              "\n",
              "  for (const file of files) {\n",
              "    const li = document.createElement('li');\n",
              "    li.append(span(file.name, {fontWeight: 'bold'}));\n",
              "    li.append(span(\n",
              "        `(${file.type || 'n/a'}) - ${file.size} bytes, ` +\n",
              "        `last modified: ${\n",
              "            file.lastModifiedDate ? file.lastModifiedDate.toLocaleDateString() :\n",
              "                                    'n/a'} - `));\n",
              "    const percent = span('0% done');\n",
              "    li.appendChild(percent);\n",
              "\n",
              "    outputElement.appendChild(li);\n",
              "\n",
              "    const fileDataPromise = new Promise((resolve) => {\n",
              "      const reader = new FileReader();\n",
              "      reader.onload = (e) => {\n",
              "        resolve(e.target.result);\n",
              "      };\n",
              "      reader.readAsArrayBuffer(file);\n",
              "    });\n",
              "    // Wait for the data to be ready.\n",
              "    let fileData = yield {\n",
              "      promise: fileDataPromise,\n",
              "      response: {\n",
              "        action: 'continue',\n",
              "      }\n",
              "    };\n",
              "\n",
              "    // Use a chunked sending to avoid message size limits. See b/62115660.\n",
              "    let position = 0;\n",
              "    do {\n",
              "      const length = Math.min(fileData.byteLength - position, MAX_PAYLOAD_SIZE);\n",
              "      const chunk = new Uint8Array(fileData, position, length);\n",
              "      position += length;\n",
              "\n",
              "      const base64 = btoa(String.fromCharCode.apply(null, chunk));\n",
              "      yield {\n",
              "        response: {\n",
              "          action: 'append',\n",
              "          file: file.name,\n",
              "          data: base64,\n",
              "        },\n",
              "      };\n",
              "\n",
              "      let percentDone = fileData.byteLength === 0 ?\n",
              "          100 :\n",
              "          Math.round((position / fileData.byteLength) * 100);\n",
              "      percent.textContent = `${percentDone}% done`;\n",
              "\n",
              "    } while (position < fileData.byteLength);\n",
              "  }\n",
              "\n",
              "  // All done.\n",
              "  yield {\n",
              "    response: {\n",
              "      action: 'complete',\n",
              "    }\n",
              "  };\n",
              "}\n",
              "\n",
              "scope.google = scope.google || {};\n",
              "scope.google.colab = scope.google.colab || {};\n",
              "scope.google.colab._files = {\n",
              "  _uploadFiles,\n",
              "  _uploadFilesContinue,\n",
              "};\n",
              "})(self);\n",
              "</script> "
            ]
          },
          "metadata": {}
        },
        {
          "output_type": "stream",
          "name": "stdout",
          "text": [
            "Saving example_strawberry_photosynthesis.xlsx to example_strawberry_photosynthesis (4).xlsx\n"
          ]
        },
        {
          "output_type": "execute_result",
          "data": {
            "text/plain": [
              "   obs          time  elapsed               date    hhmmss  averaging  \\\n",
              "0   17  1.681103e+09  15098.4  20230410 14:05:23  14:05:23         15   \n",
              "1   18  1.681104e+09  16019.5  20230410 14:20:44  14:20:44         15   \n",
              "2   19  1.681105e+09  16941.5  20230410 14:36:06  14:36:06         15   \n",
              "3   20  1.681106e+09  17865.4  20230410 14:51:30  14:51:30         15   \n",
              "4   21  1.681107e+09  18783.4  20230410 15:06:48  15:06:48         15   \n",
              "\n",
              "           TIME         E       Emm          A  ...       Ts       Tr  \\\n",
              "0  1.681103e+09  0.001347  1.347312  12.502350  ...  30.4002  30.3621   \n",
              "1  1.681104e+09  0.001366  1.366296  11.986033  ...  30.0397  29.9935   \n",
              "2  1.681105e+09  0.001476  1.475873  10.908806  ...  28.9674  28.9444   \n",
              "3  1.681106e+09  0.001159  1.158864   7.768794  ...  28.9965  28.9598   \n",
              "4  1.681107e+09  0.000654  0.653734   2.714961  ...  28.3830  28.3604   \n",
              "\n",
              "     CO2_%  Desiccant_%  Humidifier_%  Txchg_sp  CO2_r_sp  H2O_r_sp     SS_s  \\\n",
              "0  24.8436      41.4688             0   21.1353       400        18  103.414   \n",
              "1  24.8671      40.0914             0   21.8435       400        18  103.427   \n",
              "2  24.8798      38.7121             0   23.4226       400        18  103.605   \n",
              "3  24.8756      37.3201             0   23.2380       400        18  103.535   \n",
              "4  24.9124      35.4063             0   23.8365       400        18  103.655   \n",
              "\n",
              "      SS_r  \n",
              "0  101.319  \n",
              "1  101.345  \n",
              "2  101.588  \n",
              "3  101.500  \n",
              "4  101.674  \n",
              "\n",
              "[5 rows x 266 columns]"
            ],
            "text/html": [
              "\n",
              "  <div id=\"df-b4b58914-f92c-460b-b49a-69b24826f028\" class=\"colab-df-container\">\n",
              "    <div>\n",
              "<style scoped>\n",
              "    .dataframe tbody tr th:only-of-type {\n",
              "        vertical-align: middle;\n",
              "    }\n",
              "\n",
              "    .dataframe tbody tr th {\n",
              "        vertical-align: top;\n",
              "    }\n",
              "\n",
              "    .dataframe thead th {\n",
              "        text-align: right;\n",
              "    }\n",
              "</style>\n",
              "<table border=\"1\" class=\"dataframe\">\n",
              "  <thead>\n",
              "    <tr style=\"text-align: right;\">\n",
              "      <th></th>\n",
              "      <th>obs</th>\n",
              "      <th>time</th>\n",
              "      <th>elapsed</th>\n",
              "      <th>date</th>\n",
              "      <th>hhmmss</th>\n",
              "      <th>averaging</th>\n",
              "      <th>TIME</th>\n",
              "      <th>E</th>\n",
              "      <th>Emm</th>\n",
              "      <th>A</th>\n",
              "      <th>...</th>\n",
              "      <th>Ts</th>\n",
              "      <th>Tr</th>\n",
              "      <th>CO2_%</th>\n",
              "      <th>Desiccant_%</th>\n",
              "      <th>Humidifier_%</th>\n",
              "      <th>Txchg_sp</th>\n",
              "      <th>CO2_r_sp</th>\n",
              "      <th>H2O_r_sp</th>\n",
              "      <th>SS_s</th>\n",
              "      <th>SS_r</th>\n",
              "    </tr>\n",
              "  </thead>\n",
              "  <tbody>\n",
              "    <tr>\n",
              "      <th>0</th>\n",
              "      <td>17</td>\n",
              "      <td>1.681103e+09</td>\n",
              "      <td>15098.4</td>\n",
              "      <td>20230410 14:05:23</td>\n",
              "      <td>14:05:23</td>\n",
              "      <td>15</td>\n",
              "      <td>1.681103e+09</td>\n",
              "      <td>0.001347</td>\n",
              "      <td>1.347312</td>\n",
              "      <td>12.502350</td>\n",
              "      <td>...</td>\n",
              "      <td>30.4002</td>\n",
              "      <td>30.3621</td>\n",
              "      <td>24.8436</td>\n",
              "      <td>41.4688</td>\n",
              "      <td>0</td>\n",
              "      <td>21.1353</td>\n",
              "      <td>400</td>\n",
              "      <td>18</td>\n",
              "      <td>103.414</td>\n",
              "      <td>101.319</td>\n",
              "    </tr>\n",
              "    <tr>\n",
              "      <th>1</th>\n",
              "      <td>18</td>\n",
              "      <td>1.681104e+09</td>\n",
              "      <td>16019.5</td>\n",
              "      <td>20230410 14:20:44</td>\n",
              "      <td>14:20:44</td>\n",
              "      <td>15</td>\n",
              "      <td>1.681104e+09</td>\n",
              "      <td>0.001366</td>\n",
              "      <td>1.366296</td>\n",
              "      <td>11.986033</td>\n",
              "      <td>...</td>\n",
              "      <td>30.0397</td>\n",
              "      <td>29.9935</td>\n",
              "      <td>24.8671</td>\n",
              "      <td>40.0914</td>\n",
              "      <td>0</td>\n",
              "      <td>21.8435</td>\n",
              "      <td>400</td>\n",
              "      <td>18</td>\n",
              "      <td>103.427</td>\n",
              "      <td>101.345</td>\n",
              "    </tr>\n",
              "    <tr>\n",
              "      <th>2</th>\n",
              "      <td>19</td>\n",
              "      <td>1.681105e+09</td>\n",
              "      <td>16941.5</td>\n",
              "      <td>20230410 14:36:06</td>\n",
              "      <td>14:36:06</td>\n",
              "      <td>15</td>\n",
              "      <td>1.681105e+09</td>\n",
              "      <td>0.001476</td>\n",
              "      <td>1.475873</td>\n",
              "      <td>10.908806</td>\n",
              "      <td>...</td>\n",
              "      <td>28.9674</td>\n",
              "      <td>28.9444</td>\n",
              "      <td>24.8798</td>\n",
              "      <td>38.7121</td>\n",
              "      <td>0</td>\n",
              "      <td>23.4226</td>\n",
              "      <td>400</td>\n",
              "      <td>18</td>\n",
              "      <td>103.605</td>\n",
              "      <td>101.588</td>\n",
              "    </tr>\n",
              "    <tr>\n",
              "      <th>3</th>\n",
              "      <td>20</td>\n",
              "      <td>1.681106e+09</td>\n",
              "      <td>17865.4</td>\n",
              "      <td>20230410 14:51:30</td>\n",
              "      <td>14:51:30</td>\n",
              "      <td>15</td>\n",
              "      <td>1.681106e+09</td>\n",
              "      <td>0.001159</td>\n",
              "      <td>1.158864</td>\n",
              "      <td>7.768794</td>\n",
              "      <td>...</td>\n",
              "      <td>28.9965</td>\n",
              "      <td>28.9598</td>\n",
              "      <td>24.8756</td>\n",
              "      <td>37.3201</td>\n",
              "      <td>0</td>\n",
              "      <td>23.2380</td>\n",
              "      <td>400</td>\n",
              "      <td>18</td>\n",
              "      <td>103.535</td>\n",
              "      <td>101.500</td>\n",
              "    </tr>\n",
              "    <tr>\n",
              "      <th>4</th>\n",
              "      <td>21</td>\n",
              "      <td>1.681107e+09</td>\n",
              "      <td>18783.4</td>\n",
              "      <td>20230410 15:06:48</td>\n",
              "      <td>15:06:48</td>\n",
              "      <td>15</td>\n",
              "      <td>1.681107e+09</td>\n",
              "      <td>0.000654</td>\n",
              "      <td>0.653734</td>\n",
              "      <td>2.714961</td>\n",
              "      <td>...</td>\n",
              "      <td>28.3830</td>\n",
              "      <td>28.3604</td>\n",
              "      <td>24.9124</td>\n",
              "      <td>35.4063</td>\n",
              "      <td>0</td>\n",
              "      <td>23.8365</td>\n",
              "      <td>400</td>\n",
              "      <td>18</td>\n",
              "      <td>103.655</td>\n",
              "      <td>101.674</td>\n",
              "    </tr>\n",
              "  </tbody>\n",
              "</table>\n",
              "<p>5 rows × 266 columns</p>\n",
              "</div>\n",
              "    <div class=\"colab-df-buttons\">\n",
              "\n",
              "  <div class=\"colab-df-container\">\n",
              "    <button class=\"colab-df-convert\" onclick=\"convertToInteractive('df-b4b58914-f92c-460b-b49a-69b24826f028')\"\n",
              "            title=\"Convert this dataframe to an interactive table.\"\n",
              "            style=\"display:none;\">\n",
              "\n",
              "  <svg xmlns=\"http://www.w3.org/2000/svg\" height=\"24px\" viewBox=\"0 -960 960 960\">\n",
              "    <path d=\"M120-120v-720h720v720H120Zm60-500h600v-160H180v160Zm220 220h160v-160H400v160Zm0 220h160v-160H400v160ZM180-400h160v-160H180v160Zm440 0h160v-160H620v160ZM180-180h160v-160H180v160Zm440 0h160v-160H620v160Z\"/>\n",
              "  </svg>\n",
              "    </button>\n",
              "\n",
              "  <style>\n",
              "    .colab-df-container {\n",
              "      display:flex;\n",
              "      gap: 12px;\n",
              "    }\n",
              "\n",
              "    .colab-df-convert {\n",
              "      background-color: #E8F0FE;\n",
              "      border: none;\n",
              "      border-radius: 50%;\n",
              "      cursor: pointer;\n",
              "      display: none;\n",
              "      fill: #1967D2;\n",
              "      height: 32px;\n",
              "      padding: 0 0 0 0;\n",
              "      width: 32px;\n",
              "    }\n",
              "\n",
              "    .colab-df-convert:hover {\n",
              "      background-color: #E2EBFA;\n",
              "      box-shadow: 0px 1px 2px rgba(60, 64, 67, 0.3), 0px 1px 3px 1px rgba(60, 64, 67, 0.15);\n",
              "      fill: #174EA6;\n",
              "    }\n",
              "\n",
              "    .colab-df-buttons div {\n",
              "      margin-bottom: 4px;\n",
              "    }\n",
              "\n",
              "    [theme=dark] .colab-df-convert {\n",
              "      background-color: #3B4455;\n",
              "      fill: #D2E3FC;\n",
              "    }\n",
              "\n",
              "    [theme=dark] .colab-df-convert:hover {\n",
              "      background-color: #434B5C;\n",
              "      box-shadow: 0px 1px 3px 1px rgba(0, 0, 0, 0.15);\n",
              "      filter: drop-shadow(0px 1px 2px rgba(0, 0, 0, 0.3));\n",
              "      fill: #FFFFFF;\n",
              "    }\n",
              "  </style>\n",
              "\n",
              "    <script>\n",
              "      const buttonEl =\n",
              "        document.querySelector('#df-b4b58914-f92c-460b-b49a-69b24826f028 button.colab-df-convert');\n",
              "      buttonEl.style.display =\n",
              "        google.colab.kernel.accessAllowed ? 'block' : 'none';\n",
              "\n",
              "      async function convertToInteractive(key) {\n",
              "        const element = document.querySelector('#df-b4b58914-f92c-460b-b49a-69b24826f028');\n",
              "        const dataTable =\n",
              "          await google.colab.kernel.invokeFunction('convertToInteractive',\n",
              "                                                    [key], {});\n",
              "        if (!dataTable) return;\n",
              "\n",
              "        const docLinkHtml = 'Like what you see? Visit the ' +\n",
              "          '<a target=\"_blank\" href=https://colab.research.google.com/notebooks/data_table.ipynb>data table notebook</a>'\n",
              "          + ' to learn more about interactive tables.';\n",
              "        element.innerHTML = '';\n",
              "        dataTable['output_type'] = 'display_data';\n",
              "        await google.colab.output.renderOutput(dataTable, element);\n",
              "        const docLink = document.createElement('div');\n",
              "        docLink.innerHTML = docLinkHtml;\n",
              "        element.appendChild(docLink);\n",
              "      }\n",
              "    </script>\n",
              "  </div>\n",
              "\n",
              "\n",
              "    <div id=\"df-f48c57cf-58f8-4bab-8342-a7c8f57f7985\">\n",
              "      <button class=\"colab-df-quickchart\" onclick=\"quickchart('df-f48c57cf-58f8-4bab-8342-a7c8f57f7985')\"\n",
              "                title=\"Suggest charts\"\n",
              "                style=\"display:none;\">\n",
              "\n",
              "<svg xmlns=\"http://www.w3.org/2000/svg\" height=\"24px\"viewBox=\"0 0 24 24\"\n",
              "     width=\"24px\">\n",
              "    <g>\n",
              "        <path d=\"M19 3H5c-1.1 0-2 .9-2 2v14c0 1.1.9 2 2 2h14c1.1 0 2-.9 2-2V5c0-1.1-.9-2-2-2zM9 17H7v-7h2v7zm4 0h-2V7h2v10zm4 0h-2v-4h2v4z\"/>\n",
              "    </g>\n",
              "</svg>\n",
              "      </button>\n",
              "\n",
              "<style>\n",
              "  .colab-df-quickchart {\n",
              "      --bg-color: #E8F0FE;\n",
              "      --fill-color: #1967D2;\n",
              "      --hover-bg-color: #E2EBFA;\n",
              "      --hover-fill-color: #174EA6;\n",
              "      --disabled-fill-color: #AAA;\n",
              "      --disabled-bg-color: #DDD;\n",
              "  }\n",
              "\n",
              "  [theme=dark] .colab-df-quickchart {\n",
              "      --bg-color: #3B4455;\n",
              "      --fill-color: #D2E3FC;\n",
              "      --hover-bg-color: #434B5C;\n",
              "      --hover-fill-color: #FFFFFF;\n",
              "      --disabled-bg-color: #3B4455;\n",
              "      --disabled-fill-color: #666;\n",
              "  }\n",
              "\n",
              "  .colab-df-quickchart {\n",
              "    background-color: var(--bg-color);\n",
              "    border: none;\n",
              "    border-radius: 50%;\n",
              "    cursor: pointer;\n",
              "    display: none;\n",
              "    fill: var(--fill-color);\n",
              "    height: 32px;\n",
              "    padding: 0;\n",
              "    width: 32px;\n",
              "  }\n",
              "\n",
              "  .colab-df-quickchart:hover {\n",
              "    background-color: var(--hover-bg-color);\n",
              "    box-shadow: 0 1px 2px rgba(60, 64, 67, 0.3), 0 1px 3px 1px rgba(60, 64, 67, 0.15);\n",
              "    fill: var(--button-hover-fill-color);\n",
              "  }\n",
              "\n",
              "  .colab-df-quickchart-complete:disabled,\n",
              "  .colab-df-quickchart-complete:disabled:hover {\n",
              "    background-color: var(--disabled-bg-color);\n",
              "    fill: var(--disabled-fill-color);\n",
              "    box-shadow: none;\n",
              "  }\n",
              "\n",
              "  .colab-df-spinner {\n",
              "    border: 2px solid var(--fill-color);\n",
              "    border-color: transparent;\n",
              "    border-bottom-color: var(--fill-color);\n",
              "    animation:\n",
              "      spin 1s steps(1) infinite;\n",
              "  }\n",
              "\n",
              "  @keyframes spin {\n",
              "    0% {\n",
              "      border-color: transparent;\n",
              "      border-bottom-color: var(--fill-color);\n",
              "      border-left-color: var(--fill-color);\n",
              "    }\n",
              "    20% {\n",
              "      border-color: transparent;\n",
              "      border-left-color: var(--fill-color);\n",
              "      border-top-color: var(--fill-color);\n",
              "    }\n",
              "    30% {\n",
              "      border-color: transparent;\n",
              "      border-left-color: var(--fill-color);\n",
              "      border-top-color: var(--fill-color);\n",
              "      border-right-color: var(--fill-color);\n",
              "    }\n",
              "    40% {\n",
              "      border-color: transparent;\n",
              "      border-right-color: var(--fill-color);\n",
              "      border-top-color: var(--fill-color);\n",
              "    }\n",
              "    60% {\n",
              "      border-color: transparent;\n",
              "      border-right-color: var(--fill-color);\n",
              "    }\n",
              "    80% {\n",
              "      border-color: transparent;\n",
              "      border-right-color: var(--fill-color);\n",
              "      border-bottom-color: var(--fill-color);\n",
              "    }\n",
              "    90% {\n",
              "      border-color: transparent;\n",
              "      border-bottom-color: var(--fill-color);\n",
              "    }\n",
              "  }\n",
              "</style>\n",
              "\n",
              "      <script>\n",
              "        async function quickchart(key) {\n",
              "          const quickchartButtonEl =\n",
              "            document.querySelector('#' + key + ' button');\n",
              "          quickchartButtonEl.disabled = true;  // To prevent multiple clicks.\n",
              "          quickchartButtonEl.classList.add('colab-df-spinner');\n",
              "          try {\n",
              "            const charts = await google.colab.kernel.invokeFunction(\n",
              "                'suggestCharts', [key], {});\n",
              "          } catch (error) {\n",
              "            console.error('Error during call to suggestCharts:', error);\n",
              "          }\n",
              "          quickchartButtonEl.classList.remove('colab-df-spinner');\n",
              "          quickchartButtonEl.classList.add('colab-df-quickchart-complete');\n",
              "        }\n",
              "        (() => {\n",
              "          let quickchartButtonEl =\n",
              "            document.querySelector('#df-f48c57cf-58f8-4bab-8342-a7c8f57f7985 button');\n",
              "          quickchartButtonEl.style.display =\n",
              "            google.colab.kernel.accessAllowed ? 'block' : 'none';\n",
              "        })();\n",
              "      </script>\n",
              "    </div>\n",
              "\n",
              "    </div>\n",
              "  </div>\n"
            ],
            "application/vnd.google.colaboratory.intrinsic+json": {
              "type": "dataframe",
              "variable_name": "df"
            }
          },
          "metadata": {},
          "execution_count": 9
        }
      ],
      "source": [
        "#. This will open a file upload dialog in Colab.\n",
        "#. Choose the downloaded file.\n",
        "from google.colab import files\n",
        "uploaded = files.upload()\n",
        "\n",
        "#. After uploading, you can read it like this:\n",
        "import pandas as pd\n",
        "df = pd.read_excel(\"example_strawberry_photosynthesis.xlsx\")\n",
        "df.head()"
      ]
    },
    {
      "cell_type": "markdown",
      "id": "ad699040",
      "metadata": {
        "id": "ad699040"
      },
      "source": [
        "### Option 2: Access from Google Drive\n",
        "Mount your Google Drive and navigate to the file location."
      ]
    },
    {
      "cell_type": "code",
      "execution_count": 11,
      "id": "54619ddc",
      "metadata": {
        "id": "54619ddc"
      },
      "outputs": [],
      "source": [
        "# #. Mount Google Drive\n",
        "# from google.colab import drive\n",
        "# drive.mount('/content/drive')\n",
        "\n",
        "# #. Example path to a CSV file in your Drive (adjust the path accordingly)\n",
        "# file_path = '/content/drive/MyDrive/your_folder/your_file.csv'\n",
        "# df = pd.read_csv(file_path)\n",
        "# df.head()"
      ]
    },
    {
      "cell_type": "markdown",
      "id": "c645df05",
      "metadata": {
        "id": "c645df05"
      },
      "source": [
        "## What is a DataFrame and a Series?\n",
        "Once you load your CSV file, it becomes a **DataFrame**.\n",
        "\n",
        "### 1. DataFrame\n",
        "- A **DataFrame** is a 2D table with rows and columns\n",
        "- Think of it as a spreadsheet in memory\n",
        "- Each column can have a different data type\n",
        "\n",
        "### 2. Series\n",
        "- A **Series** is a single column from a DataFrame\n",
        "- It is 1-dimensional and includes the row index\n",
        "\n",
        "### Example:\n",
        "```python\n",
        "df['Temperature']          # This returns a Series\n",
        "df[['Temperature']]        # This returns a DataFrame\n",
        "```"
      ]
    },
    {
      "cell_type": "markdown",
      "id": "ea2f1564",
      "metadata": {
        "id": "ea2f1564"
      },
      "source": [
        "## 2. Exploring the Data"
      ]
    },
    {
      "cell_type": "code",
      "execution_count": null,
      "id": "d6e92e55",
      "metadata": {
        "id": "d6e92e55"
      },
      "outputs": [],
      "source": [
        "# Basic information and summary statistics\n",
        "df.info()\n",
        "df.describe()"
      ]
    },
    {
      "cell_type": "markdown",
      "id": "c011370e",
      "metadata": {
        "id": "c011370e"
      },
      "source": [
        "## 4. Modifying Columns in pandas"
      ]
    },
    {
      "cell_type": "code",
      "execution_count": null,
      "id": "94a75ed1",
      "metadata": {
        "id": "94a75ed1"
      },
      "outputs": [],
      "source": [
        "# Rename columns\n",
        "df.columns = ['Month', '1958', '1959', '1960']\n",
        "df.head()"
      ]
    },
    {
      "cell_type": "code",
      "execution_count": null,
      "id": "90c71201",
      "metadata": {
        "id": "90c71201"
      },
      "outputs": [],
      "source": [
        "# Add a new column (e.g., total passengers)\n",
        "df['Total'] = df[['1958', '1959', '1960']].sum(axis=1)\n",
        "df.head()"
      ]
    },
    {
      "cell_type": "code",
      "execution_count": null,
      "id": "b81bd66d",
      "metadata": {
        "id": "b81bd66d"
      },
      "outputs": [],
      "source": [
        "# Delete a column\n",
        "df = df.drop(columns=['Total'])\n",
        "df.head()"
      ]
    },
    {
      "cell_type": "markdown",
      "id": "4cf053e5",
      "metadata": {
        "id": "4cf053e5"
      },
      "source": [
        "### What’s the Difference Between `loc[]` and `iloc[]`?\n",
        "- `.loc[]` is label-based indexing. Use it when you know the **row label** or column name.\n",
        "- `.iloc[]` is integer-location-based indexing. Use it when you know the **row or column position**.\n",
        "\n",
        "**Examples:**\n",
        "```python\n",
        "df.loc[0]          # Gets the row with label/index 0\n",
        "df.iloc[0, 1:3]    # Gets the first row, columns 2 and 3\n",
        "```"
      ]
    },
    {
      "cell_type": "code",
      "execution_count": null,
      "id": "5059e673",
      "metadata": {
        "id": "5059e673"
      },
      "outputs": [],
      "source": [
        "# Access rows and columns using loc and iloc\n",
        "print(df.loc[0])       # first row by label\n",
        "print(df.iloc[0, 1:])  # first row, columns 2 to end"
      ]
    },
    {
      "cell_type": "markdown",
      "id": "a94e94d6",
      "metadata": {
        "id": "a94e94d6"
      },
      "source": [
        "## Understanding Rows, Columns, and Index in pandas\n",
        "- A **row** represents one record or observation (e.g., a single measurement at a certain time).\n",
        "- A **column** represents a variable or feature (e.g., temperature, humidity).\n",
        "- The **index** is a label for each row. By default, it’s an integer (0, 1, 2, ...), but you can set it to any unique identifier (like a date or timestamp).\n",
        "\n",
        "**Example:**\n",
        "```python\n",
        "df.index            # shows index values\n",
        "df.columns          # shows column names\n",
        "df.shape            # shows (number of rows, number of columns)\n",
        "```"
      ]
    },
    {
      "cell_type": "code",
      "execution_count": null,
      "id": "f6b1065c",
      "metadata": {
        "id": "f6b1065c"
      },
      "outputs": [],
      "source": [
        "# Display index, columns, and shape\n",
        "print('Index:', df.index)\n",
        "print('Columns:', df.columns)\n",
        "print('Shape:', df.shape)"
      ]
    },
    {
      "cell_type": "markdown",
      "id": "3c83bee7",
      "metadata": {
        "id": "3c83bee7"
      },
      "source": [
        "## Working with Dates and Times in pandas\n",
        "Sensor data is often recorded over time, so handling **datetime** is important.\n",
        "\n",
        "**Steps to handle datetime:**\n",
        "- Convert a column to datetime: `pd.to_datetime(df['column_name'])`\n",
        "- Set datetime as index: `df.set_index('datetime_column')`\n",
        "- Extract parts like year, month, hour using `.dt` accessor\n",
        "\n",
        "**Example:**"
      ]
    },
    {
      "cell_type": "code",
      "execution_count": null,
      "id": "a96d171f",
      "metadata": {
        "id": "a96d171f"
      },
      "outputs": [],
      "source": [
        "#. Create a datetime range starting from Jan 1, 2022 with monthly frequency\n",
        "df['Date'] = pd.date_range(start='2022-01-01', periods=len(df), freq='M')\n",
        "#. Convert to datetime format (not strictly needed here since it's already datetime)\n",
        "df['Date'] = pd.to_datetime(df['Date'])\n",
        "#. Set the datetime column as the index\n",
        "df.set_index('Date', inplace=True)\n",
        "#. Extract the month number from the datetime index\n",
        "df['Month_Num'] = df.index.month\n",
        "df.head()"
      ]
    },
    {
      "cell_type": "markdown",
      "id": "80dbf9bf",
      "metadata": {
        "id": "80dbf9bf"
      },
      "source": [
        "### Understanding Data Types in pandas\n",
        "Each column in a DataFrame has a **data type** (dtype), such as:\n",
        "- `int64`: integer numbers\n",
        "- `float64`: decimal numbers\n",
        "- `object`: text (string)\n",
        "- `datetime64[ns]`: datetime\n",
        "\n",
        "**Check datatypes:**\n",
        "```python\n",
        "df.dtypes\n",
        "```"
      ]
    },
    {
      "cell_type": "markdown",
      "id": "10fc5fe6",
      "metadata": {
        "id": "10fc5fe6"
      },
      "source": [
        "### Resampling Data\n",
        "If your data is recorded at a higher frequency (e.g., hourly), you can **resample** it to daily, weekly, or monthly summaries.\n",
        "\n",
        "**Example: Get monthly mean values**"
      ]
    },
    {
      "cell_type": "code",
      "execution_count": null,
      "id": "7f38f991",
      "metadata": {
        "id": "7f38f991"
      },
      "outputs": [],
      "source": [
        "#. Example resampling (assuming datetime index and numerical columns)\n",
        "monthly_avg = df.resample('M').mean()\n",
        "monthly_avg.head()"
      ]
    },
    {
      "cell_type": "markdown",
      "id": "d77dc809",
      "metadata": {
        "id": "d77dc809"
      },
      "source": [
        "## 3. Plotting with matplotlib"
      ]
    },
    {
      "cell_type": "code",
      "execution_count": null,
      "id": "6f05fe5b",
      "metadata": {
        "id": "6f05fe5b"
      },
      "outputs": [],
      "source": [
        "# Run this cell if matplotlib is not already installed\n",
        "!pip install matplotlib"
      ]
    },
    {
      "cell_type": "code",
      "execution_count": null,
      "id": "fd0605fe",
      "metadata": {
        "id": "fd0605fe"
      },
      "outputs": [],
      "source": [
        "import matplotlib.pyplot as plt\n",
        "\n",
        "# Basic line plot example (assumes numerical data)\n",
        "df.plot(x='Month')\n",
        "plt.title('Air Travel by Month')\n",
        "plt.xlabel('Month')\n",
        "plt.ylabel('Passengers')\n",
        "plt.grid(True)\n",
        "plt.show()"
      ]
    },
    {
      "cell_type": "markdown",
      "id": "903dcb7f",
      "metadata": {
        "id": "903dcb7f"
      },
      "source": [
        "## 5. Other Plotting Styles"
      ]
    },
    {
      "cell_type": "code",
      "execution_count": null,
      "id": "f5fdf103",
      "metadata": {
        "id": "f5fdf103"
      },
      "outputs": [],
      "source": [
        "# Scatter plot example\n",
        "df.plot(kind='scatter', x='1958', y='1959')\n",
        "plt.title('Scatter Plot: 1958 vs 1959')\n",
        "plt.grid(True)\n",
        "plt.show()"
      ]
    },
    {
      "cell_type": "code",
      "execution_count": null,
      "id": "bb15c6d6",
      "metadata": {
        "id": "bb15c6d6"
      },
      "outputs": [],
      "source": [
        "# Bar chart example\n",
        "df.set_index('Month')[['1958', '1959', '1960']].plot(kind='bar')\n",
        "plt.title('Monthly Air Travel by Year')\n",
        "plt.ylabel('Passengers')\n",
        "plt.xticks(rotation=45)\n",
        "plt.tight_layout()\n",
        "plt.show()"
      ]
    },
    {
      "cell_type": "code",
      "execution_count": null,
      "id": "50a4fa8f",
      "metadata": {
        "id": "50a4fa8f"
      },
      "outputs": [],
      "source": [
        "# Error bar example\n",
        "import numpy as np\n",
        "means = df[['1958', '1959', '1960']].mean()\n",
        "stds = df[['1958', '1959', '1960']].std()\n",
        "plt.errorbar(means.index, means.values, yerr=stds.values, fmt='o', capsize=5)\n",
        "plt.title('Average Monthly Passengers with Std Dev')\n",
        "plt.grid(True)\n",
        "plt.show()"
      ]
    },
    {
      "cell_type": "markdown",
      "id": "7078ddbc",
      "metadata": {
        "id": "7078ddbc"
      },
      "source": [
        "## ✍️ Exercise: Try it Yourself\n",
        "- Replace the dataset with one of your own (e.g., environmental sensor logs)\n",
        "- Try plotting temperature or humidity data over time\n",
        "- Customize the title, axis labels, and line style"
      ]
    },
    {
      "cell_type": "markdown",
      "id": "731e316c",
      "metadata": {
        "id": "731e316c"
      },
      "source": [
        "## Summary\n",
        "In this lab, you learned how to:\n",
        "- Read CSV data using `pandas`\n",
        "- Explore and summarize datasets\n",
        "- Plot basic graphs using `matplotlib`\n",
        "\n",
        "In the next lab, we'll explore data cleaning and simple analysis techniques."
      ]
    }
  ],
  "metadata": {
    "language_info": {
      "name": "python"
    },
    "colab": {
      "provenance": []
    },
    "kernelspec": {
      "name": "python3",
      "display_name": "Python 3"
    }
  },
  "nbformat": 4,
  "nbformat_minor": 5
}