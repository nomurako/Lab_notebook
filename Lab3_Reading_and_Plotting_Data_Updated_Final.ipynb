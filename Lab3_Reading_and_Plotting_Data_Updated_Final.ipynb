{
 "cells": [
  {
   "cell_type": "markdown",
   "id": "9a2b1464",
   "metadata": {},
   "source": [
    "# Lab 3: Reading and Plotting Data with pandas and matplotlib\n",
    "\n",
    "In this lab, you will learn how to:\n",
    "- Load CSV data using `pandas`\n",
    "- Inspect and summarize datasets\n",
    "- Plot simple graphs using `matplotlib`\n",
    "\n",
    "These tools are essential for analyzing agricultural data such as temperature, humidity, and CO₂ levels from sensors."
   ]
  },
  {
   "cell_type": "markdown",
   "id": "a1a150aa",
   "metadata": {},
   "source": [
    "## What is pandas?\n",
    "**pandas** is a Python library used for working with tabular data (like spreadsheets or CSV files).\n",
    "\n",
    "With pandas, you can:\n",
    "- Load and save data\n",
    "- Explore and clean datasets\n",
    "- Analyze and filter rows and columns\n",
    "- Perform group operations and aggregations"
   ]
  },
  {
   "cell_type": "markdown",
   "id": "3a54ee7f",
   "metadata": {},
   "source": [
    "## What is matplotlib?\n",
    "**matplotlib** is a Python library for creating static, animated, and interactive visualizations.\n",
    "\n",
    "It works well with pandas and is widely used in science and engineering to visualize trends, comparisons, and patterns."
   ]
  },
  {
   "cell_type": "markdown",
   "id": "c0a8af39",
   "metadata": {},
   "source": [
    "## Reading CSV Files from Local Drive or Google Drive\n",
    "In Google Colab, you can read CSV files from your local machine or Google Drive.\n",
    "\n",
    "### Option 1: Upload from Your Local Computer"
   ]
  },
  {
   "cell_type": "code",
   "execution_count": null,
   "id": "7636cf16",
   "metadata": {},
   "outputs": [],
   "source": [
    "#. This will open a file upload dialog in Colab\n",
    "from google.colab import files\n",
    "uploaded = files.upload()\n",
    "\n",
    "#. After uploading, you can read it like this (replace 'your_file.csv' with the actual name):\n",
    "import pandas as pd\n",
    "df = pd.read_csv('your_file.csv')\n",
    "df.head()"
   ]
  },
  {
   "cell_type": "markdown",
   "id": "ad699040",
   "metadata": {},
   "source": [
    "### Option 2: Access from Google Drive\n",
    "Mount your Google Drive and navigate to the file location."
   ]
  },
  {
   "cell_type": "code",
   "execution_count": null,
   "id": "54619ddc",
   "metadata": {},
   "outputs": [],
   "source": [
    "#. Mount Google Drive\n",
    "from google.colab import drive\n",
    "drive.mount('/content/drive')\n",
    "\n",
    "#. Example path to a CSV file in your Drive (adjust the path accordingly)\n",
    "file_path = '/content/drive/MyDrive/your_folder/your_file.csv'\n",
    "df = pd.read_csv(file_path)\n",
    "df.head()"
   ]
  },
  {
   "cell_type": "markdown",
   "id": "553e5a6c",
   "metadata": {},
   "source": [
    "## 1. Loading Data with pandas"
   ]
  },
  {
   "cell_type": "code",
   "execution_count": null,
   "id": "3b49344b",
   "metadata": {},
   "outputs": [],
   "source": [
    "# Run this cell if pandas is not already installed\n",
    "!pip install pandas"
   ]
  },
  {
   "cell_type": "code",
   "execution_count": null,
   "id": "590c7fc2",
   "metadata": {},
   "outputs": [],
   "source": [
    "import pandas as pd\n",
    "\n",
    "# Load a sample CSV file (replace this with your actual file path)\n",
    "url = 'https://people.sc.fsu.edu/~jburkardt/data/csv/airtravel.csv'\n",
    "df = pd.read_csv(url)\n",
    "df.head()"
   ]
  },
  {
   "cell_type": "markdown",
   "id": "c645df05",
   "metadata": {},
   "source": [
    "## What is a DataFrame and a Series?\n",
    "Once you load your CSV file, it becomes a **DataFrame**.\n",
    "\n",
    "### 1. DataFrame\n",
    "- A **DataFrame** is a 2D table with rows and columns\n",
    "- Think of it as a spreadsheet in memory\n",
    "- Each column can have a different data type\n",
    "\n",
    "### 2. Series\n",
    "- A **Series** is a single column from a DataFrame\n",
    "- It is 1-dimensional and includes the row index\n",
    "\n",
    "### Example:\n",
    "```python\n",
    "df['Temperature']          # This returns a Series\n",
    "df[['Temperature']]        # This returns a DataFrame\n",
    "```"
   ]
  },
  {
   "cell_type": "markdown",
   "id": "ea2f1564",
   "metadata": {},
   "source": [
    "## 2. Exploring the Data"
   ]
  },
  {
   "cell_type": "code",
   "execution_count": null,
   "id": "d6e92e55",
   "metadata": {},
   "outputs": [],
   "source": [
    "# Basic information and summary statistics\n",
    "df.info()\n",
    "df.describe()"
   ]
  },
  {
   "cell_type": "markdown",
   "id": "c011370e",
   "metadata": {},
   "source": [
    "## 4. Modifying Columns in pandas"
   ]
  },
  {
   "cell_type": "code",
   "execution_count": null,
   "id": "94a75ed1",
   "metadata": {},
   "outputs": [],
   "source": [
    "# Rename columns\n",
    "df.columns = ['Month', '1958', '1959', '1960']\n",
    "df.head()"
   ]
  },
  {
   "cell_type": "code",
   "execution_count": null,
   "id": "90c71201",
   "metadata": {},
   "outputs": [],
   "source": [
    "# Add a new column (e.g., total passengers)\n",
    "df['Total'] = df[['1958', '1959', '1960']].sum(axis=1)\n",
    "df.head()"
   ]
  },
  {
   "cell_type": "code",
   "execution_count": null,
   "id": "b81bd66d",
   "metadata": {},
   "outputs": [],
   "source": [
    "# Delete a column\n",
    "df = df.drop(columns=['Total'])\n",
    "df.head()"
   ]
  },
  {
   "cell_type": "markdown",
   "id": "4cf053e5",
   "metadata": {},
   "source": [
    "### What’s the Difference Between `loc[]` and `iloc[]`?\n",
    "- `.loc[]` is label-based indexing. Use it when you know the **row label** or column name.\n",
    "- `.iloc[]` is integer-location-based indexing. Use it when you know the **row or column position**.\n",
    "\n",
    "**Examples:**\n",
    "```python\n",
    "df.loc[0]          # Gets the row with label/index 0\n",
    "df.iloc[0, 1:3]    # Gets the first row, columns 2 and 3\n",
    "```"
   ]
  },
  {
   "cell_type": "code",
   "execution_count": null,
   "id": "5059e673",
   "metadata": {},
   "outputs": [],
   "source": [
    "# Access rows and columns using loc and iloc\n",
    "print(df.loc[0])       # first row by label\n",
    "print(df.iloc[0, 1:])  # first row, columns 2 to end"
   ]
  },
  {
   "cell_type": "markdown",
   "id": "a94e94d6",
   "metadata": {},
   "source": [
    "## Understanding Rows, Columns, and Index in pandas\n",
    "- A **row** represents one record or observation (e.g., a single measurement at a certain time).\n",
    "- A **column** represents a variable or feature (e.g., temperature, humidity).\n",
    "- The **index** is a label for each row. By default, it’s an integer (0, 1, 2, ...), but you can set it to any unique identifier (like a date or timestamp).\n",
    "\n",
    "**Example:**\n",
    "```python\n",
    "df.index            # shows index values\n",
    "df.columns          # shows column names\n",
    "df.shape            # shows (number of rows, number of columns)\n",
    "```"
   ]
  },
  {
   "cell_type": "code",
   "execution_count": null,
   "id": "f6b1065c",
   "metadata": {},
   "outputs": [],
   "source": [
    "# Display index, columns, and shape\n",
    "print('Index:', df.index)\n",
    "print('Columns:', df.columns)\n",
    "print('Shape:', df.shape)"
   ]
  },
  {
   "cell_type": "markdown",
   "id": "3c83bee7",
   "metadata": {},
   "source": [
    "## Working with Dates and Times in pandas\n",
    "Sensor data is often recorded over time, so handling **datetime** is important.\n",
    "\n",
    "**Steps to handle datetime:**\n",
    "- Convert a column to datetime: `pd.to_datetime(df['column_name'])`\n",
    "- Set datetime as index: `df.set_index('datetime_column')`\n",
    "- Extract parts like year, month, hour using `.dt` accessor\n",
    "\n",
    "**Example:**"
   ]
  },
  {
   "cell_type": "code",
   "execution_count": null,
   "id": "a96d171f",
   "metadata": {},
   "outputs": [],
   "source": [
    "#. Create a datetime range starting from Jan 1, 2022 with monthly frequency\n",
    "df['Date'] = pd.date_range(start='2022-01-01', periods=len(df), freq='M')\n",
    "#. Convert to datetime format (not strictly needed here since it's already datetime)\n",
    "df['Date'] = pd.to_datetime(df['Date'])\n",
    "#. Set the datetime column as the index\n",
    "df.set_index('Date', inplace=True)\n",
    "#. Extract the month number from the datetime index\n",
    "df['Month_Num'] = df.index.month\n",
    "df.head()"
   ]
  },
  {
   "cell_type": "markdown",
   "id": "80dbf9bf",
   "metadata": {},
   "source": [
    "### Understanding Data Types in pandas\n",
    "Each column in a DataFrame has a **data type** (dtype), such as:\n",
    "- `int64`: integer numbers\n",
    "- `float64`: decimal numbers\n",
    "- `object`: text (string)\n",
    "- `datetime64[ns]`: datetime\n",
    "\n",
    "**Check datatypes:**\n",
    "```python\n",
    "df.dtypes\n",
    "```"
   ]
  },
  {
   "cell_type": "markdown",
   "id": "10fc5fe6",
   "metadata": {},
   "source": [
    "### Resampling Data\n",
    "If your data is recorded at a higher frequency (e.g., hourly), you can **resample** it to daily, weekly, or monthly summaries.\n",
    "\n",
    "**Example: Get monthly mean values**"
   ]
  },
  {
   "cell_type": "code",
   "execution_count": null,
   "id": "7f38f991",
   "metadata": {},
   "outputs": [],
   "source": [
    "#. Example resampling (assuming datetime index and numerical columns)\n",
    "monthly_avg = df.resample('M').mean()\n",
    "monthly_avg.head()"
   ]
  },
  {
   "cell_type": "markdown",
   "id": "d77dc809",
   "metadata": {},
   "source": [
    "## 3. Plotting with matplotlib"
   ]
  },
  {
   "cell_type": "code",
   "execution_count": null,
   "id": "6f05fe5b",
   "metadata": {},
   "outputs": [],
   "source": [
    "# Run this cell if matplotlib is not already installed\n",
    "!pip install matplotlib"
   ]
  },
  {
   "cell_type": "code",
   "execution_count": null,
   "id": "fd0605fe",
   "metadata": {},
   "outputs": [],
   "source": [
    "import matplotlib.pyplot as plt\n",
    "\n",
    "# Basic line plot example (assumes numerical data)\n",
    "df.plot(x='Month')\n",
    "plt.title('Air Travel by Month')\n",
    "plt.xlabel('Month')\n",
    "plt.ylabel('Passengers')\n",
    "plt.grid(True)\n",
    "plt.show()"
   ]
  },
  {
   "cell_type": "markdown",
   "id": "903dcb7f",
   "metadata": {},
   "source": [
    "## 5. Other Plotting Styles"
   ]
  },
  {
   "cell_type": "code",
   "execution_count": null,
   "id": "f5fdf103",
   "metadata": {},
   "outputs": [],
   "source": [
    "# Scatter plot example\n",
    "df.plot(kind='scatter', x='1958', y='1959')\n",
    "plt.title('Scatter Plot: 1958 vs 1959')\n",
    "plt.grid(True)\n",
    "plt.show()"
   ]
  },
  {
   "cell_type": "code",
   "execution_count": null,
   "id": "bb15c6d6",
   "metadata": {},
   "outputs": [],
   "source": [
    "# Bar chart example\n",
    "df.set_index('Month')[['1958', '1959', '1960']].plot(kind='bar')\n",
    "plt.title('Monthly Air Travel by Year')\n",
    "plt.ylabel('Passengers')\n",
    "plt.xticks(rotation=45)\n",
    "plt.tight_layout()\n",
    "plt.show()"
   ]
  },
  {
   "cell_type": "code",
   "execution_count": null,
   "id": "50a4fa8f",
   "metadata": {},
   "outputs": [],
   "source": [
    "# Error bar example\n",
    "import numpy as np\n",
    "means = df[['1958', '1959', '1960']].mean()\n",
    "stds = df[['1958', '1959', '1960']].std()\n",
    "plt.errorbar(means.index, means.values, yerr=stds.values, fmt='o', capsize=5)\n",
    "plt.title('Average Monthly Passengers with Std Dev')\n",
    "plt.grid(True)\n",
    "plt.show()"
   ]
  },
  {
   "cell_type": "markdown",
   "id": "7078ddbc",
   "metadata": {},
   "source": [
    "## ✍️ Exercise: Try it Yourself\n",
    "- Replace the dataset with one of your own (e.g., environmental sensor logs)\n",
    "- Try plotting temperature or humidity data over time\n",
    "- Customize the title, axis labels, and line style"
   ]
  },
  {
   "cell_type": "markdown",
   "id": "731e316c",
   "metadata": {},
   "source": [
    "## Summary\n",
    "In this lab, you learned how to:\n",
    "- Read CSV data using `pandas`\n",
    "- Explore and summarize datasets\n",
    "- Plot basic graphs using `matplotlib`\n",
    "\n",
    "In the next lab, we'll explore data cleaning and simple analysis techniques."
   ]
  }
 ],
 "metadata": {},
 "nbformat": 4,
 "nbformat_minor": 5
}
