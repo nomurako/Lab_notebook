{
 "cells": [
  {
   "cell_type": "markdown",
   "id": "cc3ef4a9",
   "metadata": {},
   "source": [
    "# Lab 4: Data Cleaning and Filtering with Time Series Data\n",
    "\n",
    "In this lab session, you will learn foundational techniques in data cleaning, filtering, and visualization. These skills are essential for analyzing environmental data collected from sensors in agricultural systems.\n",
    "\n",
    "### What you will learn:\n",
    "- How to create a time-indexed DataFrame\n",
    "- How to identify and handle missing values\n",
    "- How to apply Boolean filters to extract specific data\n",
    "- How to visualize raw and processed data using Matplotlib\n",
    "- How to apply your knowledge through hands-on exercises"
   ]
  },
  {
   "cell_type": "markdown",
   "id": "a21cc115",
   "metadata": {},
   "source": [
    "## 1. Creating a Time Series DataFrame with an Index Column\n",
    "\n",
    "In this section, we create a simple dataset that simulates sensor readings taken daily over a period of 10 days. The dataset includes Temperature (°C), Humidity (%), and CO2 concentration (ppm), with some missing values. We use `pandas.date_range` to generate timestamps and set them as the index of the DataFrame."
   ]
  },
  {
   "cell_type": "code",
   "execution_count": null,
   "id": "75c83ec6",
   "metadata": {},
   "outputs": [],
   "source": [
    "import pandas as pd\n",
    "import numpy as np\n",
    "import matplotlib.pyplot as plt\n",
    "\n",
    "# Create a time series of 10 days\n",
    "date_rng = pd.date_range(start='2024-01-01', periods=10, freq='D')\n",
    "\n",
    "# Create the data dictionary with some missing values\n",
    "data = {\n",
    "    'Date': date_rng,\n",
    "    'Temperature': [22, 21, np.nan, 24, 25, 23, np.nan, 26, 27, 28],\n",
    "    'Humidity': [55, 53, 56, np.nan, 60, 59, 57, 58, np.nan, 54],\n",
    "    'CO2': [400, 405, 410, 415, np.nan, 425, 430, np.nan, 440, 445]\n",
    "}\n",
    "\n",
    "# Convert dictionary to DataFrame and set Date as index\n",
    "df = pd.DataFrame(data)\n",
    "df.set_index('Date', inplace=True)\n",
    "df"
   ]
  },
  {
   "cell_type": "markdown",
   "id": "bdf02e82",
   "metadata": {},
   "source": [
    "## 2. Handling Missing Data\n",
    "\n",
    "Sensor data often contains missing values (e.g., due to disconnection or sensor failure). We can use the `isna()` function to check for missing data and `fillna()` to replace them.\n",
    "\n",
    "- `df.isna()` returns a DataFrame indicating which values are missing.\n",
    "- `df.isna().sum()` shows how many missing values are in each column.\n",
    "- `df.fillna(df.mean())` replaces missing values with the mean of each column."
   ]
  },
  {
   "cell_type": "code",
   "execution_count": null,
   "id": "9c728f29",
   "metadata": {},
   "outputs": [],
   "source": [
    "df.isna()"
   ]
  },
  {
   "cell_type": "code",
   "execution_count": null,
   "id": "3568cc04",
   "metadata": {},
   "outputs": [],
   "source": [
    "df.isna().sum()"
   ]
  },
  {
   "cell_type": "code",
   "execution_count": null,
   "id": "8a5049b2",
   "metadata": {},
   "outputs": [],
   "source": [
    "df_filled = df.fillna(df.mean(numeric_only=True))\n",
    "df_filled"
   ]
  },
  {
   "cell_type": "markdown",
   "id": "4688b80d",
   "metadata": {},
   "source": [
    "## 3. Filtering Rows Using Conditions\n",
    "\n",
    "We often want to focus on data that meets specific criteria. For example, we might be interested in periods when the temperature exceeded 25°C.\n",
    "\n",
    "- `df['Temperature'] > 25` creates a Boolean Series\n",
    "- `df[df['Temperature'] > 25]` returns the rows that meet this condition\n",
    "- Combine multiple conditions using `&` (AND) or `|` (OR)\n",
    "\n",
    "**Note:** Wrap each condition in parentheses when combining them."
   ]
  },
  {
   "cell_type": "code",
   "execution_count": null,
   "id": "aa11ccf6",
   "metadata": {},
   "outputs": [],
   "source": [
    "df[df['Temperature'] > 25]"
   ]
  },
  {
   "cell_type": "code",
   "execution_count": null,
   "id": "3d13230e",
   "metadata": {},
   "outputs": [],
   "source": [
    "df[(df['Temperature'] > 25) & (df['Humidity'] > 55)]"
   ]
  },
  {
   "cell_type": "markdown",
   "id": "ca4a2ff8",
   "metadata": {},
   "source": [
    "## 4. Visualizing the Original and Filled Data\n",
    "\n",
    "Plotting the raw data helps us detect trends and anomalies. By using `subplots=True`, we can see each sensor value in a separate graph. We will visualize the original data and compare it to the filled (cleaned) version."
   ]
  },
  {
   "cell_type": "code",
   "execution_count": null,
   "id": "049dc23b",
   "metadata": {},
   "outputs": [],
   "source": [
    "# Plot the original data with missing values\n",
    "df.plot(subplots=True, figsize=(10, 8), title='Original Data with Missing Values')\n",
    "plt.tight_layout()\n",
    "plt.show()"
   ]
  },
  {
   "cell_type": "code",
   "execution_count": null,
   "id": "de99e21f",
   "metadata": {},
   "outputs": [],
   "source": [
    "# Plot the filled data to see how missing values were handled\n",
    "df_filled.plot(subplots=True, figsize=(10, 8), title='Data After Filling Missing Values')\n",
    "plt.tight_layout()\n",
    "plt.show()"
   ]
  },
  {
   "cell_type": "markdown",
   "id": "d47862b2",
   "metadata": {},
   "source": [
    "## 5. Visualizing Filtered Data\n",
    "\n",
    "We can also visualize the subset of data that meets specific criteria. Here, we filter rows with `Temperature > 25°C` and plot only those values. The `style='o-'` option plots both lines and markers."
   ]
  },
  {
   "cell_type": "code",
   "execution_count": null,
   "id": "37aea02d",
   "metadata": {},
   "outputs": [],
   "source": [
    "filtered_df = df[df['Temperature'] > 25]\n",
    "filtered_df.plot(style='o-', figsize=(10, 6), title='Filtered Data (Temperature > 25)')\n",
    "plt.ylabel('Sensor Values')\n",
    "plt.xlabel('Date')\n",
    "plt.grid(True)\n",
    "plt.show()"
   ]
  },
  {
   "cell_type": "markdown",
   "id": "da65a622",
   "metadata": {},
   "source": [
    "## 6. 📝 Exercises\n",
    "\n",
    "Try the following on your own to reinforce what you've learned:\n",
    "\n",
    "1. Fill missing values using **backward fill**:\n",
    "   ```python\n",
    "   df_bfill = df.fillna(method='bfill')\n",
    "   ```\n",
    "\n",
    "2. Create a new filter condition:\n",
    "   - Temperature >= 24 AND CO2 < 430\n",
    "   ```python\n",
    "   your_filtered_df = df[(df['Temperature'] >= 24) & (df['CO2'] < 430)]\n",
    "   ```\n",
    "\n",
    "3. Visualize the filtered result using a line plot:\n",
    "   ```python\n",
    "   your_filtered_df.plot(style='o-')\n",
    "   ```\n",
    "\n",
    "4. Save the filtered DataFrame as a CSV file:\n",
    "   ```python\n",
    "   your_filtered_df.to_csv('filtered_result.csv')\n",
    "   ```"
   ]
  }
 ],
 "metadata": {},
 "nbformat": 4,
 "nbformat_minor": 5
}
