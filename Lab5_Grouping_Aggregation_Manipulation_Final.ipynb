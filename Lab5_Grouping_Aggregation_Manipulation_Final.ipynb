{
 "cells": [
  {
   "cell_type": "markdown",
   "id": "4eb8462c",
   "metadata": {},
   "source": [
    "# Lab 5: Grouping, Aggregation, Pivot Tables, and DataFrame Manipulation in Pandas\n",
    "\n",
    "This lab focuses on how to summarize, reshape, and manipulate tabular and time-series data using Pandas.\n",
    "\n",
    "## Learning Objectives\n",
    "- Understand and apply `groupby()` and `.agg()` for data summarization\n",
    "- Use `.resample()` for time-based grouping\n",
    "- Create and manipulate pivot tables\n",
    "- Modify DataFrames by adding, transforming, and filtering columns\n",
    "- Sort and rank data based on values\n",
    "- Practice using these techniques in exercises"
   ]
  },
  {
   "cell_type": "markdown",
   "id": "a5cea6c7",
   "metadata": {},
   "source": [
    "## 1. Create a Time Series Dataset\n",
    "We begin by creating a small dataset simulating greenhouse sensor data, including temperature and CO2 levels over 12 days."
   ]
  },
  {
   "cell_type": "code",
   "execution_count": null,
   "id": "29cf8709",
   "metadata": {},
   "outputs": [],
   "source": [
    "import pandas as pd\n",
    "import numpy as np\n",
    "import matplotlib.pyplot as plt\n",
    "\n",
    "np.random.seed(0)\n",
    "date_rng = pd.date_range(start='2024-01-01', periods=12, freq='D')\n",
    "data = {\n",
    "    'Date': date_rng,\n",
    "    'Greenhouse': ['A', 'B', 'A', 'C', 'A', 'B', 'C', 'A', 'C', 'B', 'A', 'C'],\n",
    "    'Temperature': np.random.randint(20, 30, size=12),\n",
    "    'CO2': np.random.randint(400, 450, size=12)\n",
    "}\n",
    "df = pd.DataFrame(data)\n",
    "df.set_index('Date', inplace=True)\n",
    "df"
   ]
  },
  {
   "cell_type": "markdown",
   "id": "c1bdfceb",
   "metadata": {},
   "source": [
    "## 2. Grouping with `groupby()`\n",
    "`groupby()` allows you to group data by categories (e.g., greenhouse ID) and compute summary statistics for each group."
   ]
  },
  {
   "cell_type": "code",
   "execution_count": null,
   "id": "c5d152f3",
   "metadata": {},
   "outputs": [],
   "source": [
    "df.groupby('Greenhouse')[['Temperature', 'CO2']].mean()"
   ]
  },
  {
   "cell_type": "markdown",
   "id": "cdbec623",
   "metadata": {},
   "source": [
    "## 3. Multiple Aggregations with `.agg()`\n",
    "With `.agg()`, you can apply multiple aggregation functions (like mean, max, min, std) to each group."
   ]
  },
  {
   "cell_type": "code",
   "execution_count": null,
   "id": "ae93bf8f",
   "metadata": {},
   "outputs": [],
   "source": [
    "df.groupby('Greenhouse').agg({\n",
    "    'Temperature': ['mean', 'max', 'min'],\n",
    "    'CO2': ['mean', 'std']\n",
    "})"
   ]
  },
  {
   "cell_type": "markdown",
   "id": "6826cddf",
   "metadata": {},
   "source": [
    "## 4. Time-Based Grouping with `resample()`\n",
    "If your index is a datetime, you can group by time periods. Here, we calculate the weekly average."
   ]
  },
  {
   "cell_type": "code",
   "execution_count": null,
   "id": "a1d87326",
   "metadata": {},
   "outputs": [],
   "source": [
    "df.resample('W').mean(numeric_only=True)"
   ]
  },
  {
   "cell_type": "markdown",
   "id": "70bbd5e8",
   "metadata": {},
   "source": [
    "## 5. Pivot Table\n",
    "`pivot_table()` reshapes data so that one variable becomes columns. Here, we display temperature by greenhouse and date."
   ]
  },
  {
   "cell_type": "code",
   "execution_count": null,
   "id": "e95a1c30",
   "metadata": {},
   "outputs": [],
   "source": [
    "pivot = pd.pivot_table(df, values='Temperature', index='Date', columns='Greenhouse')\n",
    "pivot"
   ]
  },
  {
   "cell_type": "markdown",
   "id": "750d4531",
   "metadata": {},
   "source": [
    "## 6. Handling Missing Values in Pivot Tables\n",
    "Fill missing combinations with a default value (e.g., 0)."
   ]
  },
  {
   "cell_type": "code",
   "execution_count": null,
   "id": "2b0cebcc",
   "metadata": {},
   "outputs": [],
   "source": [
    "pivot.fillna(0)"
   ]
  },
  {
   "cell_type": "markdown",
   "id": "42037624",
   "metadata": {},
   "source": [
    "## 7. Visualize Grouped and Pivoted Data\n",
    "Data visualization can help identify trends and compare values more clearly."
   ]
  },
  {
   "cell_type": "code",
   "execution_count": null,
   "id": "e644b0e3",
   "metadata": {},
   "outputs": [],
   "source": [
    "# Bar chart\n",
    "df.groupby('Greenhouse')['Temperature'].mean().plot(kind='bar', title='Average Temperature by Greenhouse')\n",
    "plt.ylabel('Temperature (°C)')\n",
    "plt.grid(True)\n",
    "plt.show()"
   ]
  },
  {
   "cell_type": "code",
   "execution_count": null,
   "id": "fa4a078e",
   "metadata": {},
   "outputs": [],
   "source": [
    "# Line plot from pivot\n",
    "pivot.plot(title='Temperature by Greenhouse Over Time', figsize=(10, 6))\n",
    "plt.ylabel('Temperature (°C)')\n",
    "plt.grid(True)\n",
    "plt.show()"
   ]
  },
  {
   "cell_type": "markdown",
   "id": "4f3d4b76",
   "metadata": {},
   "source": [
    "## 8. Filtering with Conditions Before Grouping\n",
    "You can filter rows before applying a groupby, for example selecting only rows with CO2 < 430."
   ]
  },
  {
   "cell_type": "code",
   "execution_count": null,
   "id": "c6783988",
   "metadata": {},
   "outputs": [],
   "source": [
    "df[df['CO2'] < 430].groupby('Greenhouse')['Temperature'].mean()"
   ]
  },
  {
   "cell_type": "markdown",
   "id": "73b10e45",
   "metadata": {},
   "source": [
    "## 9. Adding and Modifying Columns\n",
    "You can create new columns by applying arithmetic operations to existing ones. Let's convert Celsius to Fahrenheit."
   ]
  },
  {
   "cell_type": "code",
   "execution_count": null,
   "id": "986b144c",
   "metadata": {},
   "outputs": [],
   "source": [
    "df['Temp_F'] = df['Temperature'] * 9/5 + 32\n",
    "df[['Temperature', 'Temp_F']]"
   ]
  },
  {
   "cell_type": "markdown",
   "id": "55dddf2d",
   "metadata": {},
   "source": [
    "## 10. Using `.apply()` for Categorization\n",
    "Define a custom function and use `.apply()` to classify values into categories like 'Low', 'Medium', and 'High'."
   ]
  },
  {
   "cell_type": "code",
   "execution_count": null,
   "id": "6b713377",
   "metadata": {},
   "outputs": [],
   "source": [
    "def classify_temp(temp):\n",
    "    if temp < 23:\n",
    "        return 'Low'\n",
    "    elif temp <= 26:\n",
    "        return 'Medium'\n",
    "    else:\n",
    "        return 'High'\n",
    "\n",
    "df['Temp_Level'] = df['Temperature'].apply(classify_temp)\n",
    "df[['Temperature', 'Temp_Level']]"
   ]
  },
  {
   "cell_type": "markdown",
   "id": "5a5d7cae",
   "metadata": {},
   "source": [
    "## 11. Sorting and Ranking\n",
    "You can sort rows based on column values and assign a ranking for comparisons."
   ]
  },
  {
   "cell_type": "code",
   "execution_count": null,
   "id": "8345c162",
   "metadata": {},
   "outputs": [],
   "source": [
    "df_sorted = df.sort_values(by='Temperature', ascending=False)\n",
    "df_sorted[['Greenhouse', 'Temperature']]"
   ]
  },
  {
   "cell_type": "code",
   "execution_count": null,
   "id": "01543c50",
   "metadata": {},
   "outputs": [],
   "source": [
    "df['Temp_Rank'] = df['Temperature'].rank(ascending=False)\n",
    "df[['Temperature', 'Temp_Rank']]"
   ]
  },
  {
   "cell_type": "markdown",
   "id": "42d8de7f",
   "metadata": {},
   "source": [
    "## 12. Filtering with Multiple Conditions\n",
    "You can use logical operators to filter data. Remember to wrap each condition in parentheses."
   ]
  },
  {
   "cell_type": "code",
   "execution_count": null,
   "id": "f16a3fd3",
   "metadata": {},
   "outputs": [],
   "source": [
    "df[(df['Temperature'] > 25) & (df['CO2'] < 430)][['Greenhouse', 'Temperature', 'CO2']]"
   ]
  },
  {
   "cell_type": "markdown",
   "id": "ec611a4c",
   "metadata": {},
   "source": [
    "## 13. 📝 Exercises\n",
    "Try solving the following using the techniques you've learned:\n",
    "\n",
    "1. Group by greenhouse and count the number of records.\n",
    "2. Add a column for temperature deviation from the mean temperature.\n",
    "3. Filter rows where `Temp_Level` is 'High' and display their CO2 values.\n",
    "4. Create a new column showing CO2 as a percentage of the maximum CO2.\n",
    "5. Create a pivot table showing average CO2 by `Temp_Level` and `Greenhouse`.\n",
    "6. Plot the pivot table from (5) using a bar chart."
   ]
  }
 ],
 "metadata": {},
 "nbformat": 4,
 "nbformat_minor": 5
}
