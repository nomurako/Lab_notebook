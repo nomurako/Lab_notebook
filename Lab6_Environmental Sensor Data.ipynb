{
 "cells": [
  {
   "cell_type": "markdown",
   "id": "4eb8462c",
   "metadata": {},
   "source": [
    "## 📌 Objectives\n",
    "\n",
    "In this lab, you will:\n",
    "\n",
    "- Simulate time-series data for environmental sensors in greenhouses\n",
    "- Apply **rolling averages** and **standard deviation** to smooth sensor data\n",
    "- Calculate **correlation coefficients** between variables such as temperature, humidity, and CO₂\n",
    "- Create **scatter plots** and overlay **trend lines** to visualize relationships\n",
    "- Perform and interpret **linear regression** to quantify the strength and direction of correlations\n"
   ]
  },
  {
   "cell_type": "markdown",
   "id": "87907382",
   "metadata": {},
   "source": [
    "## 1. Simulate Time-Series Greenhouse Data"
   ]
  },
  {
   "cell_type": "markdown",
   "id": "141a4f2f",
   "metadata": {},
   "source": [
    "## 🧪 Simulating Time-Series Environmental Sensor Data\n",
    "\n",
    "Before analyzing real-world greenhouse sensor data, we first simulate a dataset representing 30 days of environmental readings. This simulation includes **temperature (°C)**, **humidity (%)**, and **CO₂ concentration (ppm)**.\n",
    "\n",
    "### 🔍 Explanation of Each Step:\n",
    "\n",
    "1. **Import necessary Python libraries**:\n",
    "   - `pandas`: for creating and managing the DataFrame (tabular data)\n",
    "   - `numpy`: for numerical calculations and random data generation\n",
    "   - `matplotlib.pyplot`: for plotting graphs\n",
    "   - `seaborn`: for advanced statistical visualizations\n",
    "   - `scipy.stats.linregress`: for linear regression analysis\n",
    "\n",
    "2. **Set a random seed**:\n",
    "   - `np.random.seed(42)` ensures reproducibility: every time you run this code, it generates the same random data.\n",
    "\n",
    "3. **Generate a date range**:\n",
    "   - `pd.date_range(start='2024-01-01', periods=30, freq='D')` creates 30 consecutive daily timestamps starting from January 1, 2024.\n",
    "\n",
    "4. **Simulate sensor values**:\n",
    "   - `temperature`: Normally distributed around 25°C with a standard deviation of 2°C\n",
    "   - `humidity`: Normally distributed around 60% with a standard deviation of 5%\n",
    "   - `co2`: Simulated based on the temperature (more heat leads to higher CO₂), with additional random noise\n",
    "\n",
    "5. **Create a DataFrame**:\n",
    "   - A `pandas.DataFrame` is constructed from the simulated arrays.\n",
    "   - Columns include `Temperature`, `Humidity`, and `CO2`.\n",
    "   - The `Date` column is set as the index to enable time-series operations.\n",
    "\n",
    "6. **Preview the data**:\n",
    "   - `df.head()` shows the first 5 rows of the dataset so we can verify its structure.\n"
   ]
  },
  {
   "cell_type": "code",
   "execution_count": null,
   "id": "00846d6f",
   "metadata": {
    "vscode": {
     "languageId": "r"
    }
   },
   "outputs": [],
   "source": [
    "# 📦 Import necessary libraries\n",
    "import pandas as pd\n",
    "import numpy as np\n",
    "import matplotlib.pyplot as plt\n",
    "import seaborn as sns\n",
    "from scipy.stats import linregress\n",
    "\n",
    "# 🎲 Set random seed for reproducibility\n",
    "np.random.seed(42)\n",
    "\n",
    "# 📆 Create a time series index (30 days starting from Jan 1, 2024)\n",
    "date_rng = pd.date_range(start='2024-01-01', periods=30, freq='D')\n",
    "\n",
    "# 🌡️ Simulate sensor data\n",
    "temperature = np.random.normal(loc=25, scale=2, size=30)  # °C\n",
    "humidity = np.random.normal(loc=60, scale=5, size=30)     # %\n",
    "co2 = 400 + temperature * 1.5 + np.random.normal(0, 5, size=30)  # ppm, linearly related to temp + noise\n",
    "\n",
    "# 🧱 Create a DataFrame\n",
    "df = pd.DataFrame({\n",
    "    'Date': date_rng,\n",
    "    'Temperature': temperature,\n",
    "    'Humidity': humidity,\n",
    "    'CO2': co2\n",
    "})\n",
    "\n",
    "# 🗂️ Set Date as index\n",
    "df.set_index('Date', inplace=True)\n",
    "\n",
    "# 👀 Display the first few rows\n",
    "df.head()\n"
   ]
  },
  {
   "cell_type": "markdown",
   "id": "2de53306",
   "metadata": {},
   "source": [
    "## 📊 Rolling Statistics\n",
    "\n",
    "In greenhouse environments, sensor data can fluctuate due to natural variation or measurement noise. To observe longer-term trends and reduce short-term fluctuations, we use **rolling statistics** such as the **rolling mean** and **rolling standard deviation**.\n",
    "\n",
    "### 🔄 What is a Rolling Window?\n",
    "\n",
    "A *rolling window* computes statistics over a sliding subset of data points. For example, a **3-day rolling mean** at a given date is the average of that date and the previous 2 days. This smooths out sudden spikes or drops.\n",
    "\n",
    "### 📘 Common Use Cases:\n",
    "- Detect gradual changes in temperature or humidity\n",
    "- Remove sensor noise before control decisions\n",
    "- Spot seasonality or patterns over days or weeks\n",
    "\n",
    "### 🧮 Operations We'll Perform:\n",
    "- Compute **3-day** and **7-day** rolling averages for temperature\n",
    "- Compute the **3-day rolling standard deviation** for temperature\n",
    "- Compare raw data with smoothed data visually\n"
   ]
  },
  {
   "cell_type": "code",
   "execution_count": null,
   "id": "d5ad0efe",
   "metadata": {
    "vscode": {
     "languageId": "r"
    }
   },
   "outputs": [],
   "source": [
    "# 🔁 Calculate rolling statistics\n",
    "df['Temp_3d'] = df['Temperature'].rolling(window=3).mean()      # 3-day rolling mean\n",
    "df['Temp_7d'] = df['Temperature'].rolling(window=7).mean()      # 7-day rolling mean\n",
    "df['Temp_std_3d'] = df['Temperature'].rolling(window=3).std()   # 3-day rolling std deviation\n",
    "\n",
    "# 📈 Plot the original and smoothed temperature data\n",
    "df[['Temperature', 'Temp_3d', 'Temp_7d']].plot(figsize=(10, 5), title='Temperature: Raw vs. Rolling Averages')\n",
    "plt.xlabel('Date')\n",
    "plt.ylabel('Temperature (°C)')\n",
    "plt.grid(True)\n",
    "plt.legend()\n",
    "plt.show()"
   ]
  },
  {
   "cell_type": "markdown",
   "id": "115f947f",
   "metadata": {},
   "source": [
    "## 📈 Correlation Analysis\n",
    "\n",
    "Understanding how environmental variables are related helps us identify potential cause-effect relationships and optimize control strategies in greenhouses.\n",
    "\n",
    "### 🔗 What is Correlation?\n",
    "\n",
    "**Correlation** measures the strength and direction of a linear relationship between two variables.\n",
    "\n",
    "- A correlation coefficient (**r**) ranges from **-1** to **1**:\n",
    "  - `+1` = perfect positive correlation (both increase together)\n",
    "  - `0` = no correlation\n",
    "  - `–1` = perfect negative correlation (one increases, the other decreases)\n",
    "\n",
    "### 🧪 What We'll Do:\n",
    "We will compute the pairwise correlation between:\n",
    "- Temperature (°C)\n",
    "- Humidity (%)\n",
    "- CO₂ concentration (ppm)\n",
    "\n",
    "This will help us understand which environmental factors move together.\n"
   ]
  },
  {
   "cell_type": "code",
   "execution_count": null,
   "id": "da027794",
   "metadata": {
    "vscode": {
     "languageId": "r"
    }
   },
   "outputs": [],
   "source": [
    "# 🔗 Calculate correlation coefficients\n",
    "correlation_matrix = df[['Temperature', 'Humidity', 'CO2']].corr()\n",
    "\n",
    "# 🖨️ Display the correlation matrix\n",
    "print(\"Correlation Matrix:\")\n",
    "print(correlation_matrix)\n"
   ]
  },
  {
   "cell_type": "markdown",
   "id": "d9d173e8",
   "metadata": {},
   "source": [
    "## 📉 Scatter Plot and Trend Line\n",
    "\n",
    "After calculating correlation coefficients, it's helpful to **visualize** the relationships between variables. One of the best tools for this is the **scatter plot**.\n",
    "\n",
    "### 🔍 Why Use a Scatter Plot?\n",
    "\n",
    "- Each point represents a pair of values (e.g., Temperature and CO₂ on the same day).\n",
    "- Patterns show whether a relationship exists.\n",
    "- Adding a **regression line** helps clarify the direction and strength of the trend.\n",
    "\n",
    "In this lab, we'll plot **Temperature vs. CO₂ concentration** and use a built-in trend line from the `seaborn` library.\n"
   ]
  },
  {
   "cell_type": "code",
   "execution_count": null,
   "id": "5630cf99",
   "metadata": {
    "vscode": {
     "languageId": "r"
    }
   },
   "outputs": [],
   "source": [
    "# 📉 Create scatter plot with regression line\n",
    "sns.regplot(data=df, x='Temperature', y='CO2')\n",
    "plt.title('Scatter Plot with Regression Line: Temperature vs. CO₂')\n",
    "plt.xlabel('Temperature (°C)')\n",
    "plt.ylabel('CO₂ (ppm)')\n",
    "plt.grid(True)\n",
    "plt.show()\n"
   ]
  },
  {
   "cell_type": "markdown",
   "id": "858e7b53",
   "metadata": {},
   "source": [
    "## 📐 Linear Regression with `scipy`\n",
    "\n",
    "While a scatter plot with a trend line gives us visual insight, we often need **numerical results** to quantify relationships. This is where **linear regression** comes in.\n",
    "\n",
    "### 🧠 What is Linear Regression?\n",
    "\n",
    "Linear regression fits a straight line through the data and returns:\n",
    "\n",
    "- **Slope**: the rate of change (how much CO₂ changes per °C)\n",
    "- **Intercept**: the expected CO₂ level when temperature is zero\n",
    "- **R-value (R)**: correlation strength\n",
    "- **R-squared (R²)**: proportion of variation in CO₂ explained by temperature\n",
    "- **P-value**: statistical significance\n",
    "- **Standard Error**: uncertainty in the slope estimate\n",
    "\n",
    "We'll apply regression between **Temperature** and **CO₂** using `scipy.stats.linregress`.\n",
    "\n",
    "> 🔍 Tip: A higher R² value (closer to 1) means better predictive power.\n"
   ]
  },
  {
   "cell_type": "code",
   "execution_count": null,
   "id": "4aec7133",
   "metadata": {
    "vscode": {
     "languageId": "r"
    }
   },
   "outputs": [],
   "source": [
    "# 📐 Prepare variables (drop NA if any)\n",
    "x = df['Temperature'].dropna()\n",
    "y = df['CO2'].dropna()\n",
    "common_idx = x.index.intersection(y.index)\n",
    "x = x.loc[common_idx]\n",
    "y = y.loc[common_idx]\n",
    "\n",
    "# 🔍 Perform linear regression\n",
    "slope, intercept, r_value, p_value, std_err = linregress(x, y)\n",
    "\n",
    "# 📊 Print regression results\n",
    "print(f\"Slope: {slope:.2f}\")\n",
    "print(f\"Intercept: {intercept:.2f}\")\n",
    "print(f\"R-squared: {r_value**2:.2f}\")\n",
    "print(f\"P-value: {p_value:.4f}\")\n",
    "print(f\"Standard Error: {std_err:.2f}\")\n",
    "\n",
    "# 🖼️ Plot with regression line\n",
    "plt.scatter(x, y, label='Data')\n",
    "plt.plot(x, slope * x + intercept, color='red', label='Regression Line')\n",
    "plt.xlabel('Temperature (°C)')\n",
    "plt.ylabel('CO₂ (ppm)')\n",
    "plt.title('Linear Regression: Temperature vs. CO₂')\n",
    "plt.legend()\n",
    "plt.grid(True)\n",
    "plt.show()\n"
   ]
  },
  {
   "cell_type": "markdown",
   "id": "8090e47e",
   "metadata": {},
   "source": [
    "## 📝 Exercises\n",
    "\n",
    "Try the following exercises to practice and reinforce what you've learned. These problems will help you apply rolling statistics, correlation analysis, and regression techniques to greenhouse sensor data.\n",
    "\n",
    "---\n",
    "\n",
    "### 🔁 1. Rolling Statistics\n",
    "- Plot a **7-day rolling average** and **7-day rolling standard deviation** for **humidity**.\n",
    "- What can you learn from the smoothed trend?\n",
    "\n",
    "---\n",
    "\n",
    "### 🔍 2. Scatter Plot and Correlation\n",
    "- Create a **scatter plot** between **Humidity** and **CO₂**.\n",
    "- Add a trend line.\n",
    "- Visually assess the strength and direction of their relationship.\n",
    "\n",
    "---\n",
    "\n",
    "### 📐 3. Linear Regression (Humidity vs CO₂)\n",
    "- Perform a linear regression between **Humidity** and **CO₂** using `linregress()`.\n",
    "- Print out:\n",
    "  - Slope\n",
    "  - Intercept\n",
    "  - R²\n",
    "- Compare the R² value to that from **Temperature vs CO₂**. Which is a better predictor?\n",
    "\n",
    "---\n",
    "\n",
    "### 📊 4. Outlier Detection (Advanced)\n",
    "- Find the date where **temperature** has the **maximum deviation** from its **3-day rolling mean**.\n",
    "- What does this tell you about fluctuations in greenhouse conditions?\n",
    "\n",
    "---\n",
    "\n",
    "### 🧠 5. Bonus Challenge\n",
    "- Try using `.resample('W')` to calculate **weekly averages** for each variable.\n",
    "- Plot the weekly-averaged values to see smoother trends over time.\n",
    "\n",
    "---\n"
   ]
  },
  {
   "cell_type": "markdown",
   "id": "b9cc22f8",
   "metadata": {},
   "source": []
  }
 ],
 "metadata": {
  "language_info": {
   "name": "python"
  }
 },
 "nbformat": 4,
 "nbformat_minor": 5
}
